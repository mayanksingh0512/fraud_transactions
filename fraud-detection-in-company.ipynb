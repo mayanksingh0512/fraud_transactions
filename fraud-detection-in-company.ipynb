{
 "cells": [
  {
   "cell_type": "code",
   "execution_count": 2,
   "metadata": {
    "execution": {
     "iopub.execute_input": "2023-09-12T05:19:30.651756Z",
     "iopub.status.busy": "2023-09-12T05:19:30.651407Z",
     "iopub.status.idle": "2023-09-12T05:19:30.660453Z",
     "shell.execute_reply": "2023-09-12T05:19:30.659055Z",
     "shell.execute_reply.started": "2023-09-12T05:19:30.651732Z"
    },
    "id": "JCQqeQVXvKh-"
   },
   "outputs": [],
   "source": [
    "# loading needed methods\n",
    "import warnings\n",
    "warnings.filterwarnings(\"ignore\")\n",
    "\n",
    "\n",
    "import pandas as pd\n",
    "import numpy as np\n",
    "import matplotlib.pyplot as plt\n",
    "%matplotlib inline\n",
    "import matplotlib.cm as cm\n",
    "from random import seed,sample\n",
    "from sklearn.model_selection import train_test_split\n",
    "from sklearn.preprocessing import StandardScaler\n",
    "from sklearn.neural_network import MLPClassifier\n",
    "from sklearn.metrics import classification_report,confusion_matrix, accuracy_score, roc_curve, auc, precision_score\n",
    "from sklearn.ensemble import RandomForestClassifier\n",
    "from xgboost.sklearn import XGBClassifier"
   ]
  },
  {
   "cell_type": "code",
   "execution_count": 3,
   "metadata": {
    "colab": {
     "base_uri": "https://localhost:8080/",
     "height": 206
    },
    "execution": {
     "iopub.execute_input": "2023-09-12T05:19:30.663274Z",
     "iopub.status.busy": "2023-09-12T05:19:30.662893Z",
     "iopub.status.idle": "2023-09-12T05:19:39.021631Z",
     "shell.execute_reply": "2023-09-12T05:19:39.020664Z",
     "shell.execute_reply.started": "2023-09-12T05:19:30.663243Z"
    },
    "id": "yYMEa7yhvWnn",
    "outputId": "6bfc834c-57d1-4a70-ffde-b340bd5acbdb"
   },
   "outputs": [
    {
     "data": {
      "text/html": [
       "<div>\n",
       "<style scoped>\n",
       "    .dataframe tbody tr th:only-of-type {\n",
       "        vertical-align: middle;\n",
       "    }\n",
       "\n",
       "    .dataframe tbody tr th {\n",
       "        vertical-align: top;\n",
       "    }\n",
       "\n",
       "    .dataframe thead th {\n",
       "        text-align: right;\n",
       "    }\n",
       "</style>\n",
       "<table border=\"1\" class=\"dataframe\">\n",
       "  <thead>\n",
       "    <tr style=\"text-align: right;\">\n",
       "      <th></th>\n",
       "      <th>step</th>\n",
       "      <th>type</th>\n",
       "      <th>amount</th>\n",
       "      <th>nameOrig</th>\n",
       "      <th>oldbalanceOrg</th>\n",
       "      <th>newbalanceOrig</th>\n",
       "      <th>nameDest</th>\n",
       "      <th>oldbalanceDest</th>\n",
       "      <th>newbalanceDest</th>\n",
       "      <th>isFraud</th>\n",
       "      <th>isFlaggedFraud</th>\n",
       "    </tr>\n",
       "  </thead>\n",
       "  <tbody>\n",
       "    <tr>\n",
       "      <th>0</th>\n",
       "      <td>1</td>\n",
       "      <td>PAYMENT</td>\n",
       "      <td>9839.64</td>\n",
       "      <td>C1231006815</td>\n",
       "      <td>170136.0</td>\n",
       "      <td>160296.36</td>\n",
       "      <td>M1979787155</td>\n",
       "      <td>0.0</td>\n",
       "      <td>0.0</td>\n",
       "      <td>0</td>\n",
       "      <td>0</td>\n",
       "    </tr>\n",
       "    <tr>\n",
       "      <th>1</th>\n",
       "      <td>1</td>\n",
       "      <td>PAYMENT</td>\n",
       "      <td>1864.28</td>\n",
       "      <td>C1666544295</td>\n",
       "      <td>21249.0</td>\n",
       "      <td>19384.72</td>\n",
       "      <td>M2044282225</td>\n",
       "      <td>0.0</td>\n",
       "      <td>0.0</td>\n",
       "      <td>0</td>\n",
       "      <td>0</td>\n",
       "    </tr>\n",
       "    <tr>\n",
       "      <th>2</th>\n",
       "      <td>1</td>\n",
       "      <td>TRANSFER</td>\n",
       "      <td>181.00</td>\n",
       "      <td>C1305486145</td>\n",
       "      <td>181.0</td>\n",
       "      <td>0.00</td>\n",
       "      <td>C553264065</td>\n",
       "      <td>0.0</td>\n",
       "      <td>0.0</td>\n",
       "      <td>1</td>\n",
       "      <td>0</td>\n",
       "    </tr>\n",
       "    <tr>\n",
       "      <th>3</th>\n",
       "      <td>1</td>\n",
       "      <td>CASH_OUT</td>\n",
       "      <td>181.00</td>\n",
       "      <td>C840083671</td>\n",
       "      <td>181.0</td>\n",
       "      <td>0.00</td>\n",
       "      <td>C38997010</td>\n",
       "      <td>21182.0</td>\n",
       "      <td>0.0</td>\n",
       "      <td>1</td>\n",
       "      <td>0</td>\n",
       "    </tr>\n",
       "    <tr>\n",
       "      <th>4</th>\n",
       "      <td>1</td>\n",
       "      <td>PAYMENT</td>\n",
       "      <td>11668.14</td>\n",
       "      <td>C2048537720</td>\n",
       "      <td>41554.0</td>\n",
       "      <td>29885.86</td>\n",
       "      <td>M1230701703</td>\n",
       "      <td>0.0</td>\n",
       "      <td>0.0</td>\n",
       "      <td>0</td>\n",
       "      <td>0</td>\n",
       "    </tr>\n",
       "  </tbody>\n",
       "</table>\n",
       "</div>"
      ],
      "text/plain": [
       "   step      type    amount     nameOrig  oldbalanceOrg  newbalanceOrig  \\\n",
       "0     1   PAYMENT   9839.64  C1231006815       170136.0       160296.36   \n",
       "1     1   PAYMENT   1864.28  C1666544295        21249.0        19384.72   \n",
       "2     1  TRANSFER    181.00  C1305486145          181.0            0.00   \n",
       "3     1  CASH_OUT    181.00   C840083671          181.0            0.00   \n",
       "4     1   PAYMENT  11668.14  C2048537720        41554.0        29885.86   \n",
       "\n",
       "      nameDest  oldbalanceDest  newbalanceDest  isFraud  isFlaggedFraud  \n",
       "0  M1979787155             0.0             0.0        0               0  \n",
       "1  M2044282225             0.0             0.0        0               0  \n",
       "2   C553264065             0.0             0.0        1               0  \n",
       "3    C38997010         21182.0             0.0        1               0  \n",
       "4  M1230701703             0.0             0.0        0               0  "
      ]
     },
     "execution_count": 3,
     "metadata": {},
     "output_type": "execute_result"
    }
   ],
   "source": [
    "data = pd.read_csv('Fraud.csv')\n",
    "data.head()"
   ]
  },
  {
   "cell_type": "code",
   "execution_count": 7,
   "metadata": {
    "colab": {
     "base_uri": "https://localhost:8080/",
     "height": 300
    },
    "execution": {
     "iopub.execute_input": "2023-09-12T05:19:39.023451Z",
     "iopub.status.busy": "2023-09-12T05:19:39.023120Z",
     "iopub.status.idle": "2023-09-12T05:19:40.293155Z",
     "shell.execute_reply": "2023-09-12T05:19:40.292093Z",
     "shell.execute_reply.started": "2023-09-12T05:19:39.023423Z"
    },
    "id": "jji2h72tviet",
    "outputId": "846468ac-ea64-475e-eb2a-c40afc37bda7"
   },
   "outputs": [
    {
     "data": {
      "text/html": [
       "<div>\n",
       "<style scoped>\n",
       "    .dataframe tbody tr th:only-of-type {\n",
       "        vertical-align: middle;\n",
       "    }\n",
       "\n",
       "    .dataframe tbody tr th {\n",
       "        vertical-align: top;\n",
       "    }\n",
       "\n",
       "    .dataframe thead th {\n",
       "        text-align: right;\n",
       "    }\n",
       "</style>\n",
       "<table border=\"1\" class=\"dataframe\">\n",
       "  <thead>\n",
       "    <tr style=\"text-align: right;\">\n",
       "      <th></th>\n",
       "      <th>step</th>\n",
       "      <th>amount</th>\n",
       "      <th>oldbalanceOrg</th>\n",
       "      <th>newbalanceOrig</th>\n",
       "      <th>oldbalanceDest</th>\n",
       "      <th>newbalanceDest</th>\n",
       "      <th>isFraud</th>\n",
       "      <th>isFlaggedFraud</th>\n",
       "    </tr>\n",
       "  </thead>\n",
       "  <tbody>\n",
       "    <tr>\n",
       "      <th>count</th>\n",
       "      <td>6.362620e+06</td>\n",
       "      <td>6.362620e+06</td>\n",
       "      <td>6.362620e+06</td>\n",
       "      <td>6.362620e+06</td>\n",
       "      <td>6.362620e+06</td>\n",
       "      <td>6.362620e+06</td>\n",
       "      <td>6.362620e+06</td>\n",
       "      <td>6.362620e+06</td>\n",
       "    </tr>\n",
       "    <tr>\n",
       "      <th>mean</th>\n",
       "      <td>2.433972e+02</td>\n",
       "      <td>1.798619e+05</td>\n",
       "      <td>8.338831e+05</td>\n",
       "      <td>8.551137e+05</td>\n",
       "      <td>1.100702e+06</td>\n",
       "      <td>1.224996e+06</td>\n",
       "      <td>1.290820e-03</td>\n",
       "      <td>2.514687e-06</td>\n",
       "    </tr>\n",
       "    <tr>\n",
       "      <th>std</th>\n",
       "      <td>1.423320e+02</td>\n",
       "      <td>6.038582e+05</td>\n",
       "      <td>2.888243e+06</td>\n",
       "      <td>2.924049e+06</td>\n",
       "      <td>3.399180e+06</td>\n",
       "      <td>3.674129e+06</td>\n",
       "      <td>3.590480e-02</td>\n",
       "      <td>1.585775e-03</td>\n",
       "    </tr>\n",
       "    <tr>\n",
       "      <th>min</th>\n",
       "      <td>1.000000e+00</td>\n",
       "      <td>0.000000e+00</td>\n",
       "      <td>0.000000e+00</td>\n",
       "      <td>0.000000e+00</td>\n",
       "      <td>0.000000e+00</td>\n",
       "      <td>0.000000e+00</td>\n",
       "      <td>0.000000e+00</td>\n",
       "      <td>0.000000e+00</td>\n",
       "    </tr>\n",
       "    <tr>\n",
       "      <th>25%</th>\n",
       "      <td>1.560000e+02</td>\n",
       "      <td>1.338957e+04</td>\n",
       "      <td>0.000000e+00</td>\n",
       "      <td>0.000000e+00</td>\n",
       "      <td>0.000000e+00</td>\n",
       "      <td>0.000000e+00</td>\n",
       "      <td>0.000000e+00</td>\n",
       "      <td>0.000000e+00</td>\n",
       "    </tr>\n",
       "    <tr>\n",
       "      <th>50%</th>\n",
       "      <td>2.390000e+02</td>\n",
       "      <td>7.487194e+04</td>\n",
       "      <td>1.420800e+04</td>\n",
       "      <td>0.000000e+00</td>\n",
       "      <td>1.327057e+05</td>\n",
       "      <td>2.146614e+05</td>\n",
       "      <td>0.000000e+00</td>\n",
       "      <td>0.000000e+00</td>\n",
       "    </tr>\n",
       "    <tr>\n",
       "      <th>75%</th>\n",
       "      <td>3.350000e+02</td>\n",
       "      <td>2.087215e+05</td>\n",
       "      <td>1.073152e+05</td>\n",
       "      <td>1.442584e+05</td>\n",
       "      <td>9.430367e+05</td>\n",
       "      <td>1.111909e+06</td>\n",
       "      <td>0.000000e+00</td>\n",
       "      <td>0.000000e+00</td>\n",
       "    </tr>\n",
       "    <tr>\n",
       "      <th>max</th>\n",
       "      <td>7.430000e+02</td>\n",
       "      <td>9.244552e+07</td>\n",
       "      <td>5.958504e+07</td>\n",
       "      <td>4.958504e+07</td>\n",
       "      <td>3.560159e+08</td>\n",
       "      <td>3.561793e+08</td>\n",
       "      <td>1.000000e+00</td>\n",
       "      <td>1.000000e+00</td>\n",
       "    </tr>\n",
       "  </tbody>\n",
       "</table>\n",
       "</div>"
      ],
      "text/plain": [
       "               step        amount  oldbalanceOrg  newbalanceOrig  \\\n",
       "count  6.362620e+06  6.362620e+06   6.362620e+06    6.362620e+06   \n",
       "mean   2.433972e+02  1.798619e+05   8.338831e+05    8.551137e+05   \n",
       "std    1.423320e+02  6.038582e+05   2.888243e+06    2.924049e+06   \n",
       "min    1.000000e+00  0.000000e+00   0.000000e+00    0.000000e+00   \n",
       "25%    1.560000e+02  1.338957e+04   0.000000e+00    0.000000e+00   \n",
       "50%    2.390000e+02  7.487194e+04   1.420800e+04    0.000000e+00   \n",
       "75%    3.350000e+02  2.087215e+05   1.073152e+05    1.442584e+05   \n",
       "max    7.430000e+02  9.244552e+07   5.958504e+07    4.958504e+07   \n",
       "\n",
       "       oldbalanceDest  newbalanceDest       isFraud  isFlaggedFraud  \n",
       "count    6.362620e+06    6.362620e+06  6.362620e+06    6.362620e+06  \n",
       "mean     1.100702e+06    1.224996e+06  1.290820e-03    2.514687e-06  \n",
       "std      3.399180e+06    3.674129e+06  3.590480e-02    1.585775e-03  \n",
       "min      0.000000e+00    0.000000e+00  0.000000e+00    0.000000e+00  \n",
       "25%      0.000000e+00    0.000000e+00  0.000000e+00    0.000000e+00  \n",
       "50%      1.327057e+05    2.146614e+05  0.000000e+00    0.000000e+00  \n",
       "75%      9.430367e+05    1.111909e+06  0.000000e+00    0.000000e+00  \n",
       "max      3.560159e+08    3.561793e+08  1.000000e+00    1.000000e+00  "
      ]
     },
     "execution_count": 7,
     "metadata": {},
     "output_type": "execute_result"
    }
   ],
   "source": [
    "data.describe()"
   ]
  },
  {
   "cell_type": "code",
   "execution_count": 8,
   "metadata": {
    "colab": {
     "base_uri": "https://localhost:8080/"
    },
    "execution": {
     "iopub.execute_input": "2023-09-12T05:19:40.295676Z",
     "iopub.status.busy": "2023-09-12T05:19:40.295369Z",
     "iopub.status.idle": "2023-09-12T05:19:40.302111Z",
     "shell.execute_reply": "2023-09-12T05:19:40.300665Z",
     "shell.execute_reply.started": "2023-09-12T05:19:40.295653Z"
    },
    "id": "BkYbgLbR5AgX",
    "outputId": "22d0dc76-c0cd-41d3-b2f0-14ce3130491a"
   },
   "outputs": [
    {
     "data": {
      "text/plain": [
       "(6362620, 11)"
      ]
     },
     "execution_count": 8,
     "metadata": {},
     "output_type": "execute_result"
    }
   ],
   "source": [
    "data.shape"
   ]
  },
  {
   "cell_type": "markdown",
   "metadata": {
    "id": "MSFGxYGv5G5l"
   },
   "source": [
    "*   There are no missing values\n",
    "*   There are just over 6 million observations\n",
    "*   There are 11 variables\n",
    "*   Most transactions involve amounts less than 1 million euros.\n",
    "*   Most observations in the dataset are of valid transactions, so any patterns related to identifying fraud transactions may be hard to see, data is also unbalanced.\n",
    "*   From the sample of observations, there are many instances where what happens to the recipient account (oldbalanceDest, newbalanceDest) does not make sense (e.g. the very first observation involved a payment of 9839.64 yet, the balance before and after the transaction equals 0.)\n",
    "\n",
    "\n",
    "\n",
    "\n",
    "\n",
    "\n",
    "\n",
    "\n",
    "\n",
    "\n"
   ]
  },
  {
   "cell_type": "markdown",
   "metadata": {
    "id": "0QTCwFIb5i59"
   },
   "source": [
    "\n",
    "*   No imputation is required until further notice\n",
    "*   Non-parametric machine learning methods may be preferred due to the large size of the data and that the goal is accurate classification, not interpretation\n",
    "*   Dimension Reduction methods may not be necessary\n",
    "*   (and points 5, 6) Since the data is unbalanced I want to visually compare fraud transactions to valid transactions and see if there are any important patterns that could be useful.\n",
    "\n",
    "\n"
   ]
  },
  {
   "cell_type": "markdown",
   "metadata": {
    "id": "RvCYYI7Y57jt"
   },
   "source": [
    "One feature of the dataset is the account types \"C\" (customer) and \"M\", which would be the first character for each value under nameOrig and nameDest. Could this be a predictor?\n",
    "\n",
    "I will create a feature \"type1\" which is a categorical variable with levels \"CC\" (Customer to Customer), \"CM\" (Customer to Merchant), \"MC\" (Merchant to Customer), \"MM\" (Merchant to Merchant)."
   ]
  },
  {
   "cell_type": "code",
   "execution_count": 9,
   "metadata": {
    "execution": {
     "iopub.execute_input": "2023-09-12T05:19:40.303598Z",
     "iopub.status.busy": "2023-09-12T05:19:40.303295Z",
     "iopub.status.idle": "2023-09-12T05:19:59.006522Z",
     "shell.execute_reply": "2023-09-12T05:19:59.004884Z",
     "shell.execute_reply.started": "2023-09-12T05:19:40.303570Z"
    },
    "id": "Iqyq4mLE5Bv-"
   },
   "outputs": [],
   "source": [
    "# adding feature type1\n",
    "data_new = data.copy() \n",
    "data_new[\"type1\"] = np.nan \n",
    "\n",
    "# filling feature column\n",
    "data_new.loc[data.nameOrig.str.contains('C') & data.nameDest.str.contains('C'),\"type1\"] = \"CC\" \n",
    "data_new.loc[data.nameOrig.str.contains('C') & data.nameDest.str.contains('M'),\"type1\"] = \"CM\"\n",
    "data_new.loc[data.nameOrig.str.contains('M') & data.nameDest.str.contains('C'),\"type1\"] = \"MC\"\n",
    "data_new.loc[data.nameOrig.str.contains('M') & data.nameDest.str.contains('M'),\"type1\"] = \"MM\""
   ]
  },
  {
   "cell_type": "markdown",
   "metadata": {
    "id": "GbG3Yzst6AKU"
   },
   "source": [
    "In the next few code cells, I seek to compare valid transactions against fraud transactions instead of overall trends.\n",
    "\n",
    "This is because I want to see patterns that differentiate fraud transactions from valid ones."
   ]
  },
  {
   "cell_type": "code",
   "execution_count": 10,
   "metadata": {
    "colab": {
     "base_uri": "https://localhost:8080/"
    },
    "execution": {
     "iopub.execute_input": "2023-09-12T05:19:59.008626Z",
     "iopub.status.busy": "2023-09-12T05:19:59.008178Z",
     "iopub.status.idle": "2023-09-12T05:19:59.782961Z",
     "shell.execute_reply": "2023-09-12T05:19:59.781746Z",
     "shell.execute_reply.started": "2023-09-12T05:19:59.008591Z"
    },
    "id": "Phb7HZ7o6BAV",
    "outputId": "17076046-fa43-4bb3-cdcc-250bd35d145e"
   },
   "outputs": [
    {
     "name": "stdout",
     "output_type": "stream",
     "text": [
      "Fraud transactions by type1: \n",
      " type1\n",
      "CC    8213\n",
      "Name: count, dtype: int64\n",
      "\n",
      " Valid transactions by type1: \n",
      " type1\n",
      "CC    4202912\n",
      "CM    2151495\n",
      "Name: count, dtype: int64\n"
     ]
    }
   ],
   "source": [
    "# Subsetting data into observations with fraud and valid transactions:\n",
    "fraud = data_new[data_new[\"isFraud\"] == 1]\n",
    "valid = data_new[data_new[\"isFraud\"] == 0]\n",
    "\n",
    "# seeing the counts of transactions by type1 (CC,CM,MC,MM)\n",
    "print(\"Fraud transactions by type1: \\n\",fraud.type1.value_counts())\n",
    "print(\"\\n Valid transactions by type1: \\n\",valid.type1.value_counts())"
   ]
  },
  {
   "cell_type": "markdown",
   "metadata": {
    "id": "nDmcDmBH6EWW"
   },
   "source": [
    "Conclusion:\n",
    "\n",
    "From the dataset, it seems that fraud transactions only occur when the transaction type1 is CC (Customer to Customer)\n",
    "\n",
    "Since the dataset is sample of the population, I would have resampled the data to see if this phenomenon held.\n",
    "\n",
    "Since I do not have access to the population, I will assume that transaction only occur when transaction type1 is CC.\n",
    "\n",
    "This also means that the datasets fraud and valid don't need to be subsetted. However, since all relevant observations have type1 = \"CC\", the type1 column is no longer necessary."
   ]
  },
  {
   "cell_type": "code",
   "execution_count": 13,
   "metadata": {
    "execution": {
     "iopub.execute_input": "2023-09-12T05:22:51.886436Z",
     "iopub.status.busy": "2023-09-12T05:22:51.885415Z",
     "iopub.status.idle": "2023-09-12T05:22:53.194162Z",
     "shell.execute_reply": "2023-09-12T05:22:53.191327Z",
     "shell.execute_reply.started": "2023-09-12T05:22:51.886401Z"
    },
    "id": "Lbyer0h96FUV"
   },
   "outputs": [
    {
     "ename": "KeyError",
     "evalue": "\"['type1'] not found in axis\"",
     "output_type": "error",
     "traceback": [
      "\u001b[0;31m---------------------------------------------------------------------------\u001b[0m",
      "\u001b[0;31mKeyError\u001b[0m                                  Traceback (most recent call last)",
      "Cell \u001b[0;32mIn[13], line 3\u001b[0m\n\u001b[1;32m      1\u001b[0m \u001b[38;5;66;03m# getting rid of type1 column.\u001b[39;00m\n\u001b[0;32m----> 3\u001b[0m fraud \u001b[38;5;241m=\u001b[39m \u001b[43mfraud\u001b[49m\u001b[38;5;241;43m.\u001b[39;49m\u001b[43mdrop\u001b[49m\u001b[43m(\u001b[49m\u001b[38;5;124;43m'\u001b[39;49m\u001b[38;5;124;43mtype1\u001b[39;49m\u001b[38;5;124;43m'\u001b[39;49m\u001b[43m,\u001b[49m\u001b[43m \u001b[49m\u001b[43maxis\u001b[49m\u001b[43m \u001b[49m\u001b[38;5;241;43m=\u001b[39;49m\u001b[43m \u001b[49m\u001b[38;5;241;43m1\u001b[39;49m\u001b[43m)\u001b[49m\n\u001b[1;32m      4\u001b[0m valid \u001b[38;5;241m=\u001b[39m valid\u001b[38;5;241m.\u001b[39mdrop(\u001b[38;5;124m'\u001b[39m\u001b[38;5;124mtype1\u001b[39m\u001b[38;5;124m'\u001b[39m,axis \u001b[38;5;241m=\u001b[39m \u001b[38;5;241m1\u001b[39m)\n\u001b[1;32m      5\u001b[0m data_new \u001b[38;5;241m=\u001b[39m data_new\u001b[38;5;241m.\u001b[39mdrop(\u001b[38;5;124m'\u001b[39m\u001b[38;5;124mtype1\u001b[39m\u001b[38;5;124m'\u001b[39m,axis \u001b[38;5;241m=\u001b[39m \u001b[38;5;241m1\u001b[39m)\n",
      "File \u001b[0;32m/opt/conda/lib/python3.10/site-packages/pandas/core/frame.py:5258\u001b[0m, in \u001b[0;36mDataFrame.drop\u001b[0;34m(self, labels, axis, index, columns, level, inplace, errors)\u001b[0m\n\u001b[1;32m   5110\u001b[0m \u001b[38;5;28;01mdef\u001b[39;00m \u001b[38;5;21mdrop\u001b[39m(\n\u001b[1;32m   5111\u001b[0m     \u001b[38;5;28mself\u001b[39m,\n\u001b[1;32m   5112\u001b[0m     labels: IndexLabel \u001b[38;5;241m=\u001b[39m \u001b[38;5;28;01mNone\u001b[39;00m,\n\u001b[0;32m   (...)\u001b[0m\n\u001b[1;32m   5119\u001b[0m     errors: IgnoreRaise \u001b[38;5;241m=\u001b[39m \u001b[38;5;124m\"\u001b[39m\u001b[38;5;124mraise\u001b[39m\u001b[38;5;124m\"\u001b[39m,\n\u001b[1;32m   5120\u001b[0m ) \u001b[38;5;241m-\u001b[39m\u001b[38;5;241m>\u001b[39m DataFrame \u001b[38;5;241m|\u001b[39m \u001b[38;5;28;01mNone\u001b[39;00m:\n\u001b[1;32m   5121\u001b[0m \u001b[38;5;250m    \u001b[39m\u001b[38;5;124;03m\"\"\"\u001b[39;00m\n\u001b[1;32m   5122\u001b[0m \u001b[38;5;124;03m    Drop specified labels from rows or columns.\u001b[39;00m\n\u001b[1;32m   5123\u001b[0m \n\u001b[0;32m   (...)\u001b[0m\n\u001b[1;32m   5256\u001b[0m \u001b[38;5;124;03m            weight  1.0     0.8\u001b[39;00m\n\u001b[1;32m   5257\u001b[0m \u001b[38;5;124;03m    \"\"\"\u001b[39;00m\n\u001b[0;32m-> 5258\u001b[0m     \u001b[38;5;28;01mreturn\u001b[39;00m \u001b[38;5;28;43msuper\u001b[39;49m\u001b[43m(\u001b[49m\u001b[43m)\u001b[49m\u001b[38;5;241;43m.\u001b[39;49m\u001b[43mdrop\u001b[49m\u001b[43m(\u001b[49m\n\u001b[1;32m   5259\u001b[0m \u001b[43m        \u001b[49m\u001b[43mlabels\u001b[49m\u001b[38;5;241;43m=\u001b[39;49m\u001b[43mlabels\u001b[49m\u001b[43m,\u001b[49m\n\u001b[1;32m   5260\u001b[0m \u001b[43m        \u001b[49m\u001b[43maxis\u001b[49m\u001b[38;5;241;43m=\u001b[39;49m\u001b[43maxis\u001b[49m\u001b[43m,\u001b[49m\n\u001b[1;32m   5261\u001b[0m \u001b[43m        \u001b[49m\u001b[43mindex\u001b[49m\u001b[38;5;241;43m=\u001b[39;49m\u001b[43mindex\u001b[49m\u001b[43m,\u001b[49m\n\u001b[1;32m   5262\u001b[0m \u001b[43m        \u001b[49m\u001b[43mcolumns\u001b[49m\u001b[38;5;241;43m=\u001b[39;49m\u001b[43mcolumns\u001b[49m\u001b[43m,\u001b[49m\n\u001b[1;32m   5263\u001b[0m \u001b[43m        \u001b[49m\u001b[43mlevel\u001b[49m\u001b[38;5;241;43m=\u001b[39;49m\u001b[43mlevel\u001b[49m\u001b[43m,\u001b[49m\n\u001b[1;32m   5264\u001b[0m \u001b[43m        \u001b[49m\u001b[43minplace\u001b[49m\u001b[38;5;241;43m=\u001b[39;49m\u001b[43minplace\u001b[49m\u001b[43m,\u001b[49m\n\u001b[1;32m   5265\u001b[0m \u001b[43m        \u001b[49m\u001b[43merrors\u001b[49m\u001b[38;5;241;43m=\u001b[39;49m\u001b[43merrors\u001b[49m\u001b[43m,\u001b[49m\n\u001b[1;32m   5266\u001b[0m \u001b[43m    \u001b[49m\u001b[43m)\u001b[49m\n",
      "File \u001b[0;32m/opt/conda/lib/python3.10/site-packages/pandas/core/generic.py:4549\u001b[0m, in \u001b[0;36mNDFrame.drop\u001b[0;34m(self, labels, axis, index, columns, level, inplace, errors)\u001b[0m\n\u001b[1;32m   4547\u001b[0m \u001b[38;5;28;01mfor\u001b[39;00m axis, labels \u001b[38;5;129;01min\u001b[39;00m axes\u001b[38;5;241m.\u001b[39mitems():\n\u001b[1;32m   4548\u001b[0m     \u001b[38;5;28;01mif\u001b[39;00m labels \u001b[38;5;129;01mis\u001b[39;00m \u001b[38;5;129;01mnot\u001b[39;00m \u001b[38;5;28;01mNone\u001b[39;00m:\n\u001b[0;32m-> 4549\u001b[0m         obj \u001b[38;5;241m=\u001b[39m \u001b[43mobj\u001b[49m\u001b[38;5;241;43m.\u001b[39;49m\u001b[43m_drop_axis\u001b[49m\u001b[43m(\u001b[49m\u001b[43mlabels\u001b[49m\u001b[43m,\u001b[49m\u001b[43m \u001b[49m\u001b[43maxis\u001b[49m\u001b[43m,\u001b[49m\u001b[43m \u001b[49m\u001b[43mlevel\u001b[49m\u001b[38;5;241;43m=\u001b[39;49m\u001b[43mlevel\u001b[49m\u001b[43m,\u001b[49m\u001b[43m \u001b[49m\u001b[43merrors\u001b[49m\u001b[38;5;241;43m=\u001b[39;49m\u001b[43merrors\u001b[49m\u001b[43m)\u001b[49m\n\u001b[1;32m   4551\u001b[0m \u001b[38;5;28;01mif\u001b[39;00m inplace:\n\u001b[1;32m   4552\u001b[0m     \u001b[38;5;28mself\u001b[39m\u001b[38;5;241m.\u001b[39m_update_inplace(obj)\n",
      "File \u001b[0;32m/opt/conda/lib/python3.10/site-packages/pandas/core/generic.py:4591\u001b[0m, in \u001b[0;36mNDFrame._drop_axis\u001b[0;34m(self, labels, axis, level, errors, only_slice)\u001b[0m\n\u001b[1;32m   4589\u001b[0m         new_axis \u001b[38;5;241m=\u001b[39m axis\u001b[38;5;241m.\u001b[39mdrop(labels, level\u001b[38;5;241m=\u001b[39mlevel, errors\u001b[38;5;241m=\u001b[39merrors)\n\u001b[1;32m   4590\u001b[0m     \u001b[38;5;28;01melse\u001b[39;00m:\n\u001b[0;32m-> 4591\u001b[0m         new_axis \u001b[38;5;241m=\u001b[39m \u001b[43maxis\u001b[49m\u001b[38;5;241;43m.\u001b[39;49m\u001b[43mdrop\u001b[49m\u001b[43m(\u001b[49m\u001b[43mlabels\u001b[49m\u001b[43m,\u001b[49m\u001b[43m \u001b[49m\u001b[43merrors\u001b[49m\u001b[38;5;241;43m=\u001b[39;49m\u001b[43merrors\u001b[49m\u001b[43m)\u001b[49m\n\u001b[1;32m   4592\u001b[0m     indexer \u001b[38;5;241m=\u001b[39m axis\u001b[38;5;241m.\u001b[39mget_indexer(new_axis)\n\u001b[1;32m   4594\u001b[0m \u001b[38;5;66;03m# Case for non-unique axis\u001b[39;00m\n\u001b[1;32m   4595\u001b[0m \u001b[38;5;28;01melse\u001b[39;00m:\n",
      "File \u001b[0;32m/opt/conda/lib/python3.10/site-packages/pandas/core/indexes/base.py:6699\u001b[0m, in \u001b[0;36mIndex.drop\u001b[0;34m(self, labels, errors)\u001b[0m\n\u001b[1;32m   6697\u001b[0m \u001b[38;5;28;01mif\u001b[39;00m mask\u001b[38;5;241m.\u001b[39many():\n\u001b[1;32m   6698\u001b[0m     \u001b[38;5;28;01mif\u001b[39;00m errors \u001b[38;5;241m!=\u001b[39m \u001b[38;5;124m\"\u001b[39m\u001b[38;5;124mignore\u001b[39m\u001b[38;5;124m\"\u001b[39m:\n\u001b[0;32m-> 6699\u001b[0m         \u001b[38;5;28;01mraise\u001b[39;00m \u001b[38;5;167;01mKeyError\u001b[39;00m(\u001b[38;5;124mf\u001b[39m\u001b[38;5;124m\"\u001b[39m\u001b[38;5;132;01m{\u001b[39;00m\u001b[38;5;28mlist\u001b[39m(labels[mask])\u001b[38;5;132;01m}\u001b[39;00m\u001b[38;5;124m not found in axis\u001b[39m\u001b[38;5;124m\"\u001b[39m)\n\u001b[1;32m   6700\u001b[0m     indexer \u001b[38;5;241m=\u001b[39m indexer[\u001b[38;5;241m~\u001b[39mmask]\n\u001b[1;32m   6701\u001b[0m \u001b[38;5;28;01mreturn\u001b[39;00m \u001b[38;5;28mself\u001b[39m\u001b[38;5;241m.\u001b[39mdelete(indexer)\n",
      "\u001b[0;31mKeyError\u001b[0m: \"['type1'] not found in axis\""
     ]
    }
   ],
   "source": [
    "# getting rid of type1 column.\n",
    "\n",
    "fraud = fraud.drop('type1', axis = 1)\n",
    "valid = valid.drop('type1',axis = 1)\n",
    "data_new = data_new.drop('type1',axis = 1)"
   ]
  },
  {
   "cell_type": "code",
   "execution_count": 14,
   "metadata": {
    "colab": {
     "base_uri": "https://localhost:8080/"
    },
    "execution": {
     "iopub.execute_input": "2023-09-12T05:23:08.006838Z",
     "iopub.status.busy": "2023-09-12T05:23:08.006493Z",
     "iopub.status.idle": "2023-09-12T05:23:08.350701Z",
     "shell.execute_reply": "2023-09-12T05:23:08.349581Z",
     "shell.execute_reply.started": "2023-09-12T05:23:08.006813Z"
    },
    "id": "uenLvd8p6IEN",
    "outputId": "72ae9c95-5cd5-4656-ad09-cfbb72eefb52"
   },
   "outputs": [
    {
     "name": "stdout",
     "output_type": "stream",
     "text": [
      "Fraud transactions by type: \n",
      " type\n",
      "CASH_OUT    4116\n",
      "TRANSFER    4097\n",
      "Name: count, dtype: int64\n",
      "\n",
      " Valid transactions by type: \n",
      " type\n",
      "CASH_OUT    2233384\n",
      "PAYMENT     2151495\n",
      "CASH_IN     1399284\n",
      "TRANSFER     528812\n",
      "DEBIT         41432\n",
      "Name: count, dtype: int64\n"
     ]
    }
   ],
   "source": [
    "# seeing the counts of transactions by type\n",
    "print(\"Fraud transactions by type: \\n\",fraud.type.value_counts())\n",
    "print(\"\\n Valid transactions by type: \\n\",valid.type.value_counts())"
   ]
  },
  {
   "cell_type": "markdown",
   "metadata": {
    "id": "YYt-XjNP6JQe"
   },
   "source": [
    "Conclusion:\n",
    "\n",
    "From the dataset, it seems that fraud transactions only occur when the transaction type is CASH_OUT or TRANSFER.\n",
    "\n",
    "Since the dataset is sample of the population, I would've have resampled the data to see if this phenomenon held.\n",
    "\n",
    "Since I do not have access to the population, I will assume that transaction only occur when transaction type is either CASH_OUT or TRANSFER."
   ]
  },
  {
   "cell_type": "code",
   "execution_count": 15,
   "metadata": {
    "execution": {
     "iopub.execute_input": "2023-09-12T05:23:08.352579Z",
     "iopub.status.busy": "2023-09-12T05:23:08.352281Z",
     "iopub.status.idle": "2023-09-12T05:23:10.515422Z",
     "shell.execute_reply": "2023-09-12T05:23:10.514506Z",
     "shell.execute_reply.started": "2023-09-12T05:23:08.352556Z"
    },
    "id": "rqw1bv3F6J-m"
   },
   "outputs": [],
   "source": [
    "# Subsetting data according to the conclusion above\n",
    "# I don't have to subset for the fraud dataset because all of their transaction types are either TRANSFER or CASH_OUT\n",
    "\n",
    "valid = valid[(valid[\"type\"] == \"CASH_OUT\")| (valid[\"type\"] == \"TRANSFER\")]\n",
    "data_new = data_new[(data_new[\"type\"] == \"CASH_OUT\") | (data_new[\"type\"] == \"TRANSFER\")]"
   ]
  },
  {
   "cell_type": "code",
   "execution_count": 16,
   "metadata": {
    "colab": {
     "base_uri": "https://localhost:8080/"
    },
    "execution": {
     "iopub.execute_input": "2023-09-12T05:23:10.517993Z",
     "iopub.status.busy": "2023-09-12T05:23:10.517725Z",
     "iopub.status.idle": "2023-09-12T05:23:11.612747Z",
     "shell.execute_reply": "2023-09-12T05:23:11.611614Z",
     "shell.execute_reply.started": "2023-09-12T05:23:10.517972Z"
    },
    "id": "Vq2oNILl6OGF",
    "outputId": "101d2aef-0a8f-4b40-e841-5fd81f41d07a"
   },
   "outputs": [
    {
     "name": "stdout",
     "output_type": "stream",
     "text": [
      "Percentage of observations with balance errors in the account giving money:  85.0\n",
      "Percentage of observations with balance errors in the account receiving money:  100.0\n"
     ]
    }
   ],
   "source": [
    "# Most, if not all, of the observations have errors in calculating the balances before and after the transaction.\n",
    "wrong_orig_bal = sum(data[\"oldbalanceOrg\"] - data[\"amount\"] != data[\"newbalanceOrig\"])\n",
    "wrong_dest_bal = sum(data[\"newbalanceDest\"] + data[\"amount\"] != data[\"newbalanceDest\"])\n",
    "print(\"Percentage of observations with balance errors in the account giving money: \", 100*round(wrong_orig_bal/len(data),2))\n",
    "print(\"Percentage of observations with balance errors in the account receiving money: \", 100*round(wrong_dest_bal/len(data),2))"
   ]
  },
  {
   "cell_type": "markdown",
   "metadata": {
    "id": "fRkoKSsB6RpE"
   },
   "source": [
    "Almost all of the observations have inaccurately portrayed what happens to the account receiving money and the account sending money.\n",
    "\n",
    "Some form of complete or partial imputation (filling/replacing missing or wrong values) must happen.\n",
    "\n",
    "Here are some hypothesis/assumptions that I will test soon:\n",
    "\n",
    "There are no negative values in this dataset.\n",
    "The most a given can give is how much is in their account.\n",
    "The most a receiver should have in their account is the amount given to them in the transaction."
   ]
  },
  {
   "cell_type": "code",
   "execution_count": 17,
   "metadata": {
    "colab": {
     "base_uri": "https://localhost:8080/"
    },
    "execution": {
     "iopub.execute_input": "2023-09-12T05:23:11.614982Z",
     "iopub.status.busy": "2023-09-12T05:23:11.614686Z",
     "iopub.status.idle": "2023-09-12T05:23:18.377519Z",
     "shell.execute_reply": "2023-09-12T05:23:18.376176Z",
     "shell.execute_reply.started": "2023-09-12T05:23:11.614959Z"
    },
    "id": "wUv8RLlD6TPW",
    "outputId": "6b32e147-d31d-4ce0-a01d-4e9151958f55"
   },
   "outputs": [
    {
     "name": "stdout",
     "output_type": "stream",
     "text": [
      "number of observations with negative numbers:  0\n",
      "number of observations where the amount given is greater than the amount that is in the giver's account:  4079080\n",
      "number of observations where the amount received is greater than the amount that is in the receiver's account:  2661141\n"
     ]
    }
   ],
   "source": [
    "## Calculating some quantities to justify or reject some assumptions\n",
    "\n",
    "# flatten the subsetted dataframe of floats into an array of floats\n",
    "relevant_cols = data[[\"amount\",\"oldbalanceOrg\",\"newbalanceOrig\",\"oldbalanceDest\",\"newbalanceDest\"]].values.flatten()\n",
    "num_neg_amt = sum(n < 0 for n in relevant_cols)\n",
    "num_amt_oldgiver = sum(data[\"amount\"] > data[\"oldbalanceOrg\"]) \n",
    "num_amt_newreceiver = sum(data[\"amount\"] > data[\"newbalanceDest\"]) \n",
    "\n",
    "print(\"number of observations with negative numbers: \", num_neg_amt)\n",
    "print(\"number of observations where the amount given is greater than the amount that is in the giver's account: \", num_amt_oldgiver)\n",
    "print(\"number of observations where the amount received is greater than the amount that is in the receiver's account: \", num_amt_newreceiver)\n",
    "\n",
    "#With these calculations, hypotheses 2 and 3 have been rejected."
   ]
  },
  {
   "cell_type": "code",
   "execution_count": 18,
   "metadata": {
    "colab": {
     "base_uri": "https://localhost:8080/"
    },
    "execution": {
     "iopub.execute_input": "2023-09-12T05:23:18.379284Z",
     "iopub.status.busy": "2023-09-12T05:23:18.378969Z",
     "iopub.status.idle": "2023-09-12T05:23:18.965320Z",
     "shell.execute_reply": "2023-09-12T05:23:18.964201Z",
     "shell.execute_reply.started": "2023-09-12T05:23:18.379253Z"
    },
    "id": "fYzqFMrS6Wml",
    "outputId": "b9ad54fd-2af2-4ed8-9c13-7541e30b9afa"
   },
   "outputs": [
    {
     "name": "stdout",
     "output_type": "stream",
     "text": [
      "Percentage of observations with balance errors:  100.0\n"
     ]
    }
   ],
   "source": [
    "# counting number of observations where oldbalanceOrg - amount != newbalanceOrig or newbalanceDest + amount != newbalanceDest\n",
    "# Essentially, I am counting the number of observations where the effects of the transactions are not properly reflected\n",
    "# the balances of account sending money and the account receiving money.\n",
    "\n",
    "num_wrong_bal = (data[\"oldbalanceOrg\"] - data[\"amount\"] != data[\"newbalanceOrig\"]) | (data[\"newbalanceDest\"] + data[\"amount\"] != data[\"newbalanceDest\"])\n",
    "print(\"Percentage of observations with balance errors: \", 100*round(sum(num_wrong_bal)/len(data),2))"
   ]
  },
  {
   "cell_type": "markdown",
   "metadata": {
    "id": "xIXS0bLq6atV"
   },
   "source": [
    "In fact, all observations have balance contain errors.\n",
    "\n",
    "Since I don't know why these errors are caused, I cannot replace them.\n",
    "\n",
    "I also don't want to get rid of the variables oldbalanceOrg, newbalanceOrig, newbalanceDest, oldbalanceDest since they might be important in identifying fraudulent transactions from valid transactions.\n",
    "\n",
    "So for now, I will them be.\n",
    "\n",
    "However, do these errors differ between fraudulent and valid transactions?"
   ]
  },
  {
   "cell_type": "code",
   "execution_count": 19,
   "metadata": {
    "colab": {
     "base_uri": "https://localhost:8080/"
    },
    "execution": {
     "iopub.execute_input": "2023-09-12T05:23:18.966992Z",
     "iopub.status.busy": "2023-09-12T05:23:18.966677Z",
     "iopub.status.idle": "2023-09-12T05:23:19.362371Z",
     "shell.execute_reply": "2023-09-12T05:23:19.361215Z",
     "shell.execute_reply.started": "2023-09-12T05:23:18.966965Z"
    },
    "id": "WyAZvBJg6bWP",
    "outputId": "137c15f7-60d5-4cc7-dc40-85012dbef051"
   },
   "outputs": [
    {
     "name": "stdout",
     "output_type": "stream",
     "text": [
      "Summary statistics of errorBalanceOrg for fraudulent transactions: \n",
      " count    8.213000e+03\n",
      "mean     1.069233e+04\n",
      "std      2.651461e+05\n",
      "min     -7.450581e-09\n",
      "25%      0.000000e+00\n",
      "50%      0.000000e+00\n",
      "75%      0.000000e+00\n",
      "max      1.000000e+07\n",
      "Name: errorBalanceOrg, dtype: float64\n",
      "\n",
      " Summary statistics of errorBalanceOrg for valid transactions: \n",
      " count    2.762196e+06\n",
      "mean     2.868035e+05\n",
      "std      8.763752e+05\n",
      "min     -1.000000e-02\n",
      "25%      5.261343e+04\n",
      "50%      1.442008e+05\n",
      "75%      2.804663e+05\n",
      "max      9.244552e+07\n",
      "Name: errorBalanceOrg, dtype: float64\n"
     ]
    }
   ],
   "source": [
    "# adding features errorBalanceOrg, errorBalanceDest\n",
    "data_new[\"errorBalanceOrg\"] = data_new.newbalanceOrig + data_new.amount - data_new.oldbalanceOrg\n",
    "data_new[\"errorBalanceDest\"] = data_new.oldbalanceDest + data_new.amount - data_new.newbalanceDest\n",
    "\n",
    "# Subsetting data into observations with fraud and valid transactions:\n",
    "fraud = data_new[data_new[\"isFraud\"] == 1]\n",
    "valid = data_new[data_new[\"isFraud\"] == 0]\n",
    "print(\"Summary statistics of errorBalanceOrg for fraudulent transactions: \\n\",fraud[\"errorBalanceOrg\"].describe())\n",
    "print(\"\\n Summary statistics of errorBalanceOrg for valid transactions: \\n\",valid[\"errorBalanceOrg\"].describe())"
   ]
  },
  {
   "cell_type": "markdown",
   "metadata": {
    "id": "XYAgMlAz6fY1"
   },
   "source": [
    "From the summary statistics on the errorBalanceOrg, it seems that a large proportion of the data have an error of 0 or close to zero. This is indicated by the fact that the most negative error is -7.450581e-09 or  −7.450581x10−9  which is very small and close to 0, and the 3rd quartile is 0 (that is, about 75% of the data is between -7.450581e-09 and 0). However, there are some large errors, the largest error being 10,000,000.\n",
    "\n",
    "On the other hand, for valid transactions, a large proportion of the data have large errors. For instance, about 75% of the data haver errors exceeding 52,613.43 (the first quartile). The largest error is 92,445,520."
   ]
  },
  {
   "cell_type": "code",
   "execution_count": 20,
   "metadata": {
    "colab": {
     "base_uri": "https://localhost:8080/"
    },
    "execution": {
     "iopub.execute_input": "2023-09-12T05:23:19.364996Z",
     "iopub.status.busy": "2023-09-12T05:23:19.363890Z",
     "iopub.status.idle": "2023-09-12T05:23:19.449648Z",
     "shell.execute_reply": "2023-09-12T05:23:19.448618Z",
     "shell.execute_reply.started": "2023-09-12T05:23:19.364960Z"
    },
    "id": "L2p_xep06gN9",
    "outputId": "85bc538f-2d92-44f9-c918-7e2a3e5a8629"
   },
   "outputs": [
    {
     "name": "stdout",
     "output_type": "stream",
     "text": [
      "Summary statistics of errorBalanceDest for fraudulent transactions: \n",
      " count    8.213000e+03\n",
      "mean     7.325093e+05\n",
      "std      1.867748e+06\n",
      "min     -8.875516e+06\n",
      "25%      0.000000e+00\n",
      "50%      2.231460e+03\n",
      "75%      4.427220e+05\n",
      "max      1.000000e+07\n",
      "Name: errorBalanceDest, dtype: float64\n",
      "\n",
      " Summary statistics of errorBalanceDest for valid transactions: \n",
      " count    2.762196e+06\n",
      "mean    -3.091033e+04\n",
      "std      5.840943e+05\n",
      "min     -7.588573e+07\n",
      "25%      0.000000e+00\n",
      "50%      0.000000e+00\n",
      "75%      0.000000e+00\n",
      "max      9.977761e+06\n",
      "Name: errorBalanceDest, dtype: float64\n"
     ]
    }
   ],
   "source": [
    "print(\"Summary statistics of errorBalanceDest for fraudulent transactions: \\n\",fraud[\"errorBalanceDest\"].describe())\n",
    "print(\"\\n Summary statistics of errorBalanceDest for valid transactions: \\n\",valid[\"errorBalanceDest\"].describe())"
   ]
  },
  {
   "cell_type": "markdown",
   "metadata": {
    "id": "47BTgEwk6iFl"
   },
   "source": [
    "From the summary statistics of the errorBalanceDest variable, the errors are huge in both directions (both fraudulent and valid transactions have large positive and negative errors in the accounts where money has been moved to.)\n",
    "\n",
    "Let's see what the differences look like when I plot errorBalanceOrg and errorBalanceDest together."
   ]
  },
  {
   "cell_type": "code",
   "execution_count": 21,
   "metadata": {
    "colab": {
     "base_uri": "https://localhost:8080/",
     "height": 295
    },
    "execution": {
     "iopub.execute_input": "2023-09-12T05:23:19.451894Z",
     "iopub.status.busy": "2023-09-12T05:23:19.451547Z",
     "iopub.status.idle": "2023-09-12T05:23:34.090268Z",
     "shell.execute_reply": "2023-09-12T05:23:34.089195Z",
     "shell.execute_reply.started": "2023-09-12T05:23:19.451867Z"
    },
    "id": "emK-10z06d6t",
    "outputId": "9d961d0d-5752-4328-fe86-93ff81a98adb"
   },
   "outputs": [
    {
     "data": {
      "image/png": "[encoded data removed]",
      "text/plain": [
       "<Figure size 640x480 with 1 Axes>"
      ]
     },
     "metadata": {},
     "output_type": "display_data"
    }
   ],
   "source": [
    "errors = [\"errorBalanceOrg\", \"errorBalanceDest\"]\n",
    "ax = plt.subplot()\n",
    "\n",
    "fplot = fraud.plot(x=\"errorBalanceOrg\",y=\"errorBalanceDest\",color=\"red\",kind=\"scatter\",ax=ax,label=\"Fraudulent transactions\")\n",
    "vplot = valid.plot(x=\"errorBalanceOrg\",y=\"errorBalanceDest\",color=\"green\",kind=\"scatter\", alpha=0.01,ax=ax,label=\"Valid transactions\")\n",
    "plt.title(\"errorBalanceOrg vs errorBalanceDest\")\n",
    "plt.show()"
   ]
  },
  {
   "cell_type": "markdown",
   "metadata": {
    "id": "-YQti-xk6kYV"
   },
   "source": [
    "It seems that many fraudulent transactions that are found in the top right corner where errorBalanceDest > 0, whereas transactions occur much more often when the errorBalanceDest <= 0."
   ]
  },
  {
   "cell_type": "code",
   "execution_count": 22,
   "metadata": {
    "colab": {
     "base_uri": "https://localhost:8080/"
    },
    "execution": {
     "iopub.execute_input": "2023-09-12T05:23:34.091744Z",
     "iopub.status.busy": "2023-09-12T05:23:34.091482Z",
     "iopub.status.idle": "2023-09-12T05:23:34.418916Z",
     "shell.execute_reply": "2023-09-12T05:23:34.417864Z",
     "shell.execute_reply.started": "2023-09-12T05:23:34.091722Z"
    },
    "id": "l378tywI6k3F",
    "outputId": "40ae52ff-c487-40af-9be1-2132067b32ec"
   },
   "outputs": [
    {
     "name": "stdout",
     "output_type": "stream",
     "text": [
      "Proportion of fraudulent transactions with errorBalanceDest > 0:  0.5712894192134421\n",
      "Proportion of valid transactions with errorBalanceDest > 0:  0.19744942067832985\n",
      "Proportion of fraudulent transactions with errorBalanceOrg > 0:  0.006331425788384269\n",
      "Proportion of valid transactions with errorBalanceOrg > 0:  0.9067180605576143\n"
     ]
    }
   ],
   "source": [
    "print(\"Proportion of fraudulent transactions with errorBalanceDest > 0: \", len(fraud[fraud.errorBalanceDest > 0])/len(fraud))\n",
    "print(\"Proportion of valid transactions with errorBalanceDest > 0: \", len(valid[valid.errorBalanceDest > 0])/len(valid))\n",
    "print(\"Proportion of fraudulent transactions with errorBalanceOrg > 0: \", len(fraud[fraud.errorBalanceOrg > 0])/len(fraud))\n",
    "print(\"Proportion of valid transactions with errorBalanceOrg > 0: \", len(valid[valid.errorBalanceOrg > 0])/len(valid))"
   ]
  },
  {
   "cell_type": "markdown",
   "metadata": {
    "id": "p-JBPrSi6twO"
   },
   "source": [
    "Conclusion:\n",
    "\n",
    "The spread of errors in both the balanceOrg and balanceDest variables are large, however valid transactions are much more likely to have an errorBalanceOrg > 0.\n",
    "\n",
    "Similarly, fraudulent transactions are much more likely to have errorBalanceDest > 0 than valid transactions.\n",
    "\n",
    "In addition, only valid transactions have errorBalanceDest > 10,000,000\n",
    "\n",
    "These distinctions and probably more, make errorBalanceDest and errorBalanceOrg potentially effective features.\n",
    "\n",
    "\n",
    "\n"
   ]
  },
  {
   "cell_type": "code",
   "execution_count": 23,
   "metadata": {
    "colab": {
     "base_uri": "https://localhost:8080/"
    },
    "execution": {
     "iopub.execute_input": "2023-09-12T05:23:34.423739Z",
     "iopub.status.busy": "2023-09-12T05:23:34.423437Z",
     "iopub.status.idle": "2023-09-12T05:23:34.430697Z",
     "shell.execute_reply": "2023-09-12T05:23:34.429269Z",
     "shell.execute_reply.started": "2023-09-12T05:23:34.423718Z"
    },
    "id": "IQC192wu6pGF",
    "outputId": "b8b38414-62d5-432b-84a9-62eb2069dd3f"
   },
   "outputs": [
    {
     "name": "stdout",
     "output_type": "stream",
     "text": [
      "Fraud transactions by type: \n",
      " type\n",
      "CASH_OUT    4116\n",
      "TRANSFER    4097\n",
      "Name: count, dtype: int64\n"
     ]
    }
   ],
   "source": [
    "print(\"Fraud transactions by type: \\n\",fraud.type.value_counts())\n",
    "\n",
    "#Clearly, fraudulent transactions exclusively involved cashouts and transfers"
   ]
  },
  {
   "cell_type": "code",
   "execution_count": 24,
   "metadata": {
    "colab": {
     "base_uri": "https://localhost:8080/",
     "height": 501
    },
    "execution": {
     "iopub.execute_input": "2023-09-12T05:23:34.432313Z",
     "iopub.status.busy": "2023-09-12T05:23:34.431954Z",
     "iopub.status.idle": "2023-09-12T05:23:34.460246Z",
     "shell.execute_reply": "2023-09-12T05:23:34.459265Z",
     "shell.execute_reply.started": "2023-09-12T05:23:34.432289Z"
    },
    "id": "4m7o06wI9apW",
    "outputId": "faf5a75b-40e2-4653-d199-7654b986feb4"
   },
   "outputs": [
    {
     "data": {
      "text/html": [
       "<div>\n",
       "<style scoped>\n",
       "    .dataframe tbody tr th:only-of-type {\n",
       "        vertical-align: middle;\n",
       "    }\n",
       "\n",
       "    .dataframe tbody tr th {\n",
       "        vertical-align: top;\n",
       "    }\n",
       "\n",
       "    .dataframe thead th {\n",
       "        text-align: right;\n",
       "    }\n",
       "</style>\n",
       "<table border=\"1\" class=\"dataframe\">\n",
       "  <thead>\n",
       "    <tr style=\"text-align: right;\">\n",
       "      <th></th>\n",
       "      <th>step</th>\n",
       "      <th>type</th>\n",
       "      <th>amount</th>\n",
       "      <th>nameOrig</th>\n",
       "      <th>oldbalanceOrg</th>\n",
       "      <th>newbalanceOrig</th>\n",
       "      <th>nameDest</th>\n",
       "      <th>oldbalanceDest</th>\n",
       "      <th>newbalanceDest</th>\n",
       "      <th>isFraud</th>\n",
       "      <th>isFlaggedFraud</th>\n",
       "      <th>errorBalanceOrg</th>\n",
       "      <th>errorBalanceDest</th>\n",
       "    </tr>\n",
       "  </thead>\n",
       "  <tbody>\n",
       "    <tr>\n",
       "      <th>2</th>\n",
       "      <td>1</td>\n",
       "      <td>TRANSFER</td>\n",
       "      <td>181.00</td>\n",
       "      <td>C1305486145</td>\n",
       "      <td>181.00</td>\n",
       "      <td>0.00</td>\n",
       "      <td>C553264065</td>\n",
       "      <td>0.0</td>\n",
       "      <td>0.00</td>\n",
       "      <td>1</td>\n",
       "      <td>0</td>\n",
       "      <td>0.000000e+00</td>\n",
       "      <td>181.00</td>\n",
       "    </tr>\n",
       "    <tr>\n",
       "      <th>3</th>\n",
       "      <td>1</td>\n",
       "      <td>CASH_OUT</td>\n",
       "      <td>181.00</td>\n",
       "      <td>C840083671</td>\n",
       "      <td>181.00</td>\n",
       "      <td>0.00</td>\n",
       "      <td>C38997010</td>\n",
       "      <td>21182.0</td>\n",
       "      <td>0.00</td>\n",
       "      <td>1</td>\n",
       "      <td>0</td>\n",
       "      <td>0.000000e+00</td>\n",
       "      <td>21363.00</td>\n",
       "    </tr>\n",
       "    <tr>\n",
       "      <th>15</th>\n",
       "      <td>1</td>\n",
       "      <td>CASH_OUT</td>\n",
       "      <td>229133.94</td>\n",
       "      <td>C905080434</td>\n",
       "      <td>15325.00</td>\n",
       "      <td>0.00</td>\n",
       "      <td>C476402209</td>\n",
       "      <td>5083.0</td>\n",
       "      <td>51513.44</td>\n",
       "      <td>0</td>\n",
       "      <td>0</td>\n",
       "      <td>2.138089e+05</td>\n",
       "      <td>182703.50</td>\n",
       "    </tr>\n",
       "    <tr>\n",
       "      <th>19</th>\n",
       "      <td>1</td>\n",
       "      <td>TRANSFER</td>\n",
       "      <td>215310.30</td>\n",
       "      <td>C1670993182</td>\n",
       "      <td>705.00</td>\n",
       "      <td>0.00</td>\n",
       "      <td>C1100439041</td>\n",
       "      <td>22425.0</td>\n",
       "      <td>0.00</td>\n",
       "      <td>0</td>\n",
       "      <td>0</td>\n",
       "      <td>2.146053e+05</td>\n",
       "      <td>237735.30</td>\n",
       "    </tr>\n",
       "    <tr>\n",
       "      <th>24</th>\n",
       "      <td>1</td>\n",
       "      <td>TRANSFER</td>\n",
       "      <td>311685.89</td>\n",
       "      <td>C1984094095</td>\n",
       "      <td>10835.00</td>\n",
       "      <td>0.00</td>\n",
       "      <td>C932583850</td>\n",
       "      <td>6267.0</td>\n",
       "      <td>2719172.89</td>\n",
       "      <td>0</td>\n",
       "      <td>0</td>\n",
       "      <td>3.008509e+05</td>\n",
       "      <td>-2401220.00</td>\n",
       "    </tr>\n",
       "    <tr>\n",
       "      <th>42</th>\n",
       "      <td>1</td>\n",
       "      <td>CASH_OUT</td>\n",
       "      <td>110414.71</td>\n",
       "      <td>C768216420</td>\n",
       "      <td>26845.41</td>\n",
       "      <td>0.00</td>\n",
       "      <td>C1509514333</td>\n",
       "      <td>288800.0</td>\n",
       "      <td>2415.16</td>\n",
       "      <td>0</td>\n",
       "      <td>0</td>\n",
       "      <td>8.356930e+04</td>\n",
       "      <td>396799.55</td>\n",
       "    </tr>\n",
       "    <tr>\n",
       "      <th>47</th>\n",
       "      <td>1</td>\n",
       "      <td>CASH_OUT</td>\n",
       "      <td>56953.90</td>\n",
       "      <td>C1570470538</td>\n",
       "      <td>1942.02</td>\n",
       "      <td>0.00</td>\n",
       "      <td>C824009085</td>\n",
       "      <td>70253.0</td>\n",
       "      <td>64106.18</td>\n",
       "      <td>0</td>\n",
       "      <td>0</td>\n",
       "      <td>5.501188e+04</td>\n",
       "      <td>63100.72</td>\n",
       "    </tr>\n",
       "    <tr>\n",
       "      <th>48</th>\n",
       "      <td>1</td>\n",
       "      <td>CASH_OUT</td>\n",
       "      <td>5346.89</td>\n",
       "      <td>C512549200</td>\n",
       "      <td>0.00</td>\n",
       "      <td>0.00</td>\n",
       "      <td>C248609774</td>\n",
       "      <td>652637.0</td>\n",
       "      <td>6453430.91</td>\n",
       "      <td>0</td>\n",
       "      <td>0</td>\n",
       "      <td>5.346890e+03</td>\n",
       "      <td>-5795447.02</td>\n",
       "    </tr>\n",
       "    <tr>\n",
       "      <th>51</th>\n",
       "      <td>1</td>\n",
       "      <td>CASH_OUT</td>\n",
       "      <td>23261.30</td>\n",
       "      <td>C2072313080</td>\n",
       "      <td>20411.53</td>\n",
       "      <td>0.00</td>\n",
       "      <td>C2001112025</td>\n",
       "      <td>25742.0</td>\n",
       "      <td>0.00</td>\n",
       "      <td>0</td>\n",
       "      <td>0</td>\n",
       "      <td>2.849770e+03</td>\n",
       "      <td>49003.30</td>\n",
       "    </tr>\n",
       "    <tr>\n",
       "      <th>58</th>\n",
       "      <td>1</td>\n",
       "      <td>TRANSFER</td>\n",
       "      <td>62610.80</td>\n",
       "      <td>C1976401987</td>\n",
       "      <td>79114.00</td>\n",
       "      <td>16503.20</td>\n",
       "      <td>C1937962514</td>\n",
       "      <td>517.0</td>\n",
       "      <td>8383.29</td>\n",
       "      <td>0</td>\n",
       "      <td>0</td>\n",
       "      <td>0.000000e+00</td>\n",
       "      <td>54744.51</td>\n",
       "    </tr>\n",
       "    <tr>\n",
       "      <th>60</th>\n",
       "      <td>1</td>\n",
       "      <td>CASH_OUT</td>\n",
       "      <td>82940.31</td>\n",
       "      <td>C1528834618</td>\n",
       "      <td>3017.87</td>\n",
       "      <td>0.00</td>\n",
       "      <td>C476800120</td>\n",
       "      <td>132372.0</td>\n",
       "      <td>49864.36</td>\n",
       "      <td>0</td>\n",
       "      <td>0</td>\n",
       "      <td>7.992244e+04</td>\n",
       "      <td>165447.95</td>\n",
       "    </tr>\n",
       "    <tr>\n",
       "      <th>70</th>\n",
       "      <td>1</td>\n",
       "      <td>CASH_OUT</td>\n",
       "      <td>47458.86</td>\n",
       "      <td>C527211736</td>\n",
       "      <td>209534.84</td>\n",
       "      <td>162075.98</td>\n",
       "      <td>C2096057945</td>\n",
       "      <td>52120.0</td>\n",
       "      <td>0.00</td>\n",
       "      <td>0</td>\n",
       "      <td>0</td>\n",
       "      <td>2.910383e-11</td>\n",
       "      <td>99578.86</td>\n",
       "    </tr>\n",
       "    <tr>\n",
       "      <th>71</th>\n",
       "      <td>1</td>\n",
       "      <td>CASH_OUT</td>\n",
       "      <td>136872.92</td>\n",
       "      <td>C1533123860</td>\n",
       "      <td>162075.98</td>\n",
       "      <td>25203.05</td>\n",
       "      <td>C766572210</td>\n",
       "      <td>217806.0</td>\n",
       "      <td>0.00</td>\n",
       "      <td>0</td>\n",
       "      <td>0</td>\n",
       "      <td>-1.000000e-02</td>\n",
       "      <td>354678.92</td>\n",
       "    </tr>\n",
       "  </tbody>\n",
       "</table>\n",
       "</div>"
      ],
      "text/plain": [
       "    step      type     amount     nameOrig  oldbalanceOrg  newbalanceOrig  \\\n",
       "2      1  TRANSFER     181.00  C1305486145         181.00            0.00   \n",
       "3      1  CASH_OUT     181.00   C840083671         181.00            0.00   \n",
       "15     1  CASH_OUT  229133.94   C905080434       15325.00            0.00   \n",
       "19     1  TRANSFER  215310.30  C1670993182         705.00            0.00   \n",
       "24     1  TRANSFER  311685.89  C1984094095       10835.00            0.00   \n",
       "42     1  CASH_OUT  110414.71   C768216420       26845.41            0.00   \n",
       "47     1  CASH_OUT   56953.90  C1570470538        1942.02            0.00   \n",
       "48     1  CASH_OUT    5346.89   C512549200           0.00            0.00   \n",
       "51     1  CASH_OUT   23261.30  C2072313080       20411.53            0.00   \n",
       "58     1  TRANSFER   62610.80  C1976401987       79114.00        16503.20   \n",
       "60     1  CASH_OUT   82940.31  C1528834618        3017.87            0.00   \n",
       "70     1  CASH_OUT   47458.86   C527211736      209534.84       162075.98   \n",
       "71     1  CASH_OUT  136872.92  C1533123860      162075.98        25203.05   \n",
       "\n",
       "       nameDest  oldbalanceDest  newbalanceDest  isFraud  isFlaggedFraud  \\\n",
       "2    C553264065             0.0            0.00        1               0   \n",
       "3     C38997010         21182.0            0.00        1               0   \n",
       "15   C476402209          5083.0        51513.44        0               0   \n",
       "19  C1100439041         22425.0            0.00        0               0   \n",
       "24   C932583850          6267.0      2719172.89        0               0   \n",
       "42  C1509514333        288800.0         2415.16        0               0   \n",
       "47   C824009085         70253.0        64106.18        0               0   \n",
       "48   C248609774        652637.0      6453430.91        0               0   \n",
       "51  C2001112025         25742.0            0.00        0               0   \n",
       "58  C1937962514           517.0         8383.29        0               0   \n",
       "60   C476800120        132372.0        49864.36        0               0   \n",
       "70  C2096057945         52120.0            0.00        0               0   \n",
       "71   C766572210        217806.0            0.00        0               0   \n",
       "\n",
       "    errorBalanceOrg  errorBalanceDest  \n",
       "2      0.000000e+00            181.00  \n",
       "3      0.000000e+00          21363.00  \n",
       "15     2.138089e+05         182703.50  \n",
       "19     2.146053e+05         237735.30  \n",
       "24     3.008509e+05       -2401220.00  \n",
       "42     8.356930e+04         396799.55  \n",
       "47     5.501188e+04          63100.72  \n",
       "48     5.346890e+03       -5795447.02  \n",
       "51     2.849770e+03          49003.30  \n",
       "58     0.000000e+00          54744.51  \n",
       "60     7.992244e+04         165447.95  \n",
       "70     2.910383e-11          99578.86  \n",
       "71    -1.000000e-02         354678.92  "
      ]
     },
     "execution_count": 24,
     "metadata": {},
     "output_type": "execute_result"
    }
   ],
   "source": [
    "pd.DataFrame.head(data_new,13)"
   ]
  },
  {
   "cell_type": "markdown",
   "metadata": {
    "id": "ejeEse_X9cdk"
   },
   "source": [
    "However, in this sample the account that the money to transferred to tends to not be the account used to make the cashout.\n",
    "\n",
    "Let's test this statement programmatically."
   ]
  },
  {
   "cell_type": "code",
   "execution_count": 25,
   "metadata": {
    "colab": {
     "base_uri": "https://localhost:8080/"
    },
    "execution": {
     "iopub.execute_input": "2023-09-12T05:23:34.461758Z",
     "iopub.status.busy": "2023-09-12T05:23:34.461463Z",
     "iopub.status.idle": "2023-09-12T05:23:34.474425Z",
     "shell.execute_reply": "2023-09-12T05:23:34.473311Z",
     "shell.execute_reply.started": "2023-09-12T05:23:34.461733Z"
    },
    "id": "bzGSQiYb9bS2",
    "outputId": "c7cc6f46-d8fb-48c6-d93d-81d7e3194069"
   },
   "outputs": [
    {
     "data": {
      "text/plain": [
       "False"
      ]
     },
     "execution_count": 25,
     "metadata": {},
     "output_type": "execute_result"
    }
   ],
   "source": [
    "# separating transfers and cashouts for fraud accounts\n",
    "\n",
    "fraud_transfer = fraud[fraud[\"type\"] == \"TRANSFER\"]\n",
    "fraud_cashout = fraud[fraud[\"type\"] == \"CASH_OUT\"]\n",
    "\n",
    "# checking if the recipient account of a fraudulent transfer was used as a sending account for cashing out \n",
    "fraud_transfer.nameDest.isin(fraud_cashout.nameOrig).any()"
   ]
  },
  {
   "cell_type": "markdown",
   "metadata": {
    "id": "nN9cRl-_9faW"
   },
   "source": [
    "Conclusion:\n",
    "\n",
    "Thus in this dataset, for fraudulent transactions, the account that received funds during a transfer was not used at all for cashing out.\n",
    "\n",
    "If that is the case, there seems to be no use for nameOrig or nameDest since there seems to be no restrictions on which accounts cashout from fraudulent transactions.\n",
    "\n",
    "Thus, I am omitting the nameOrig and nameDest columns from analysis."
   ]
  },
  {
   "cell_type": "code",
   "execution_count": 27,
   "metadata": {
    "execution": {
     "iopub.execute_input": "2023-09-12T05:24:06.647185Z",
     "iopub.status.busy": "2023-09-12T05:24:06.646765Z",
     "iopub.status.idle": "2023-09-12T05:24:06.777154Z",
     "shell.execute_reply": "2023-09-12T05:24:06.776488Z",
     "shell.execute_reply.started": "2023-09-12T05:24:06.647158Z"
    },
    "id": "A2Lzb4C69gBW"
   },
   "outputs": [],
   "source": [
    "# getting rid of nameOrig and nameDest column.\n",
    "names = [\"nameOrig\",\"nameDest\"]\n",
    "fraud = fraud.drop(names,axis = 1)\n",
    "valid = valid.drop(names,axis = 1)\n",
    "data_new = data_new.drop(names,axis = 1)"
   ]
  },
  {
   "cell_type": "markdown",
   "metadata": {
    "id": "rgGNFXjm9h5N"
   },
   "source": [
    "From the overview, the variable isFlaggedFraud is described as transactions that were flagged as fraud.\n",
    "\n",
    "To be flagged as fraud, the transaction would have to be fraudulent and involve a transfer of more than 200, 000 units in a specified currency.\n",
    "\n",
    "With that in mind, I have some questions."
   ]
  },
  {
   "cell_type": "code",
   "execution_count": 28,
   "metadata": {
    "colab": {
     "base_uri": "https://localhost:8080/"
    },
    "execution": {
     "iopub.execute_input": "2023-09-12T05:24:19.370399Z",
     "iopub.status.busy": "2023-09-12T05:24:19.370066Z",
     "iopub.status.idle": "2023-09-12T05:24:19.382827Z",
     "shell.execute_reply": "2023-09-12T05:24:19.381569Z",
     "shell.execute_reply.started": "2023-09-12T05:24:19.370375Z"
    },
    "id": "1AppVspl9ihv",
    "outputId": "298bf14d-4973-4c10-c297-fff129623339"
   },
   "outputs": [
    {
     "name": "stdout",
     "output_type": "stream",
     "text": [
      "16  observations were flagged correctly and  0  observations were flagged wrongly for a total of  16  flagged observations.\n",
      "number of observations that should be flagged:  2740\n"
     ]
    }
   ],
   "source": [
    "# how many observations were flagged as Fraud?\n",
    "flagged = data_new[data_new[\"isFlaggedFraud\"] == 1]\n",
    "flagged_correctly = sum(flagged[\"isFraud\"] == 1)\n",
    "flagged_wrongly = len(flagged) - flagged_correctly\n",
    "total = flagged_correctly + flagged_wrongly\n",
    "print(flagged_correctly,\" observations were flagged correctly and \", flagged_wrongly, \\\n",
    "      \" observations were flagged wrongly for a total of \", total, \" flagged observations.\")\n",
    "\n",
    "# how many observations where the transaction is fraudulent, the transaction is a transfer and the amount is greater \n",
    "# than 200, 000 are in the dataset\n",
    "should_be_flagged = fraud[(fraud[\"amount\"] > 200000) & (fraud[\"type\"] == \"TRANSFER\")]\n",
    "print(\"number of observations that should be flagged: \",len(should_be_flagged))"
   ]
  },
  {
   "cell_type": "markdown",
   "metadata": {
    "id": "kn0gvaOo9lcW"
   },
   "source": [
    "Conclusion:\n",
    "\n",
    "In a modified dataset with more than 2 million observations, a variable that brings attention to only 16 observations is insignificant.\n",
    "\n",
    "Furthermore, the number of transactions that should have been flagged far exceeds the number of observations that were actually flagged.\n",
    "\n",
    "In addition, I am trying to develop a new fraud detection screen that does not depend on a pre-existing fraud detection scheme.\n",
    "\n",
    "For that reason, I am omitting the isFlaggedFraud column from the analysis."
   ]
  },
  {
   "cell_type": "code",
   "execution_count": 32,
   "metadata": {
    "execution": {
     "iopub.execute_input": "2023-09-12T05:24:42.331679Z",
     "iopub.status.busy": "2023-09-12T05:24:42.331362Z",
     "iopub.status.idle": "2023-09-12T05:24:42.498862Z",
     "shell.execute_reply": "2023-09-12T05:24:42.497701Z",
     "shell.execute_reply.started": "2023-09-12T05:24:42.331656Z"
    },
    "id": "7GKju7-C9l4l"
   },
   "outputs": [],
   "source": [
    "# dropping isFlaggedFraud column from the fraud,valid, and new_data datasets\n",
    "\n",
    "fraud = fraud.drop(\"isFlaggedFraud\",axis = 1)\n",
    "valid = valid.drop(\"isFlaggedFraud\",axis = 1)\n",
    "data_new = data_new.drop(\"isFlaggedFraud\",axis = 1)"
   ]
  },
  {
   "cell_type": "code",
   "execution_count": 33,
   "metadata": {
    "colab": {
     "base_uri": "https://localhost:8080/",
     "height": 575
    },
    "execution": {
     "iopub.execute_input": "2023-09-12T05:24:50.097405Z",
     "iopub.status.busy": "2023-09-12T05:24:50.097100Z",
     "iopub.status.idle": "2023-09-12T05:24:50.850841Z",
     "shell.execute_reply": "2023-09-12T05:24:50.849811Z",
     "shell.execute_reply.started": "2023-09-12T05:24:50.097383Z"
    },
    "id": "EqLALPLB9oL-",
    "outputId": "e77dfd4c-608f-4d97-97d3-62c488004201"
   },
   "outputs": [
    {
     "data": {
      "image/png": "[encoded data removed]",
      "text/plain": [
       "<Figure size 640x480 with 1 Axes>"
      ]
     },
     "metadata": {},
     "output_type": "display_data"
    },
    {
     "data": {
      "image/png": "[encoded data removed]",
      "text/plain": [
       "<Figure size 640x480 with 1 Axes>"
      ]
     },
     "metadata": {},
     "output_type": "display_data"
    }
   ],
   "source": [
    "# Time patterns\n",
    "\n",
    "bins = 50\n",
    "\n",
    "valid.hist(column=\"step\",color=\"green\",bins=bins)\n",
    "plt.xlabel(\"1 hour time step\")\n",
    "plt.ylabel(\"# of transactions\")\n",
    "plt.title(\"# of valid transactions over time\")\n",
    "\n",
    "fraud.hist(column =\"step\",color=\"red\",bins=bins)\n",
    "plt.xlabel(\"1 hour time step\")\n",
    "plt.ylabel(\"# of transactions\")\n",
    "plt.title(\"# of fraud transactions over time\")\n",
    "\n",
    "plt.tight_layout()\n",
    "plt.show()"
   ]
  },
  {
   "cell_type": "markdown",
   "metadata": {
    "id": "0JZgx1uj9pg8"
   },
   "source": [
    "There are stark difference between the step data between valid and fraud transactions.\n",
    "\n",
    "A large proportion of valid transactions occur between around the 0th and 60th timestep as well as the 110th and 410th time-steps.\n",
    "The frequency at which fraudulent transactions occur does not seem to change much over time.\n",
    "However the visualizations showcase the number of transactions for each time step over the course of a month.\n",
    "\n",
    "Let's see what the patterns look like over any particular, day of the week or hour of the day."
   ]
  },
  {
   "cell_type": "code",
   "execution_count": 34,
   "metadata": {
    "colab": {
     "base_uri": "https://localhost:8080/",
     "height": 297
    },
    "execution": {
     "iopub.execute_input": "2023-09-12T05:24:50.853779Z",
     "iopub.status.busy": "2023-09-12T05:24:50.853170Z",
     "iopub.status.idle": "2023-09-12T05:24:51.272750Z",
     "shell.execute_reply": "2023-09-12T05:24:51.271781Z",
     "shell.execute_reply.started": "2023-09-12T05:24:50.853750Z"
    },
    "id": "A1l8oR7y9qU-",
    "outputId": "c61d78f2-e66a-48d1-e4aa-8ee2fc11ede9"
   },
   "outputs": [
    {
     "data": {
      "image/png": "[encoded data removed]",
      "text/plain": [
       "<Figure size 640x480 with 2 Axes>"
      ]
     },
     "metadata": {},
     "output_type": "display_data"
    }
   ],
   "source": [
    "# getting hours and days of the week\n",
    "num_days = 7\n",
    "num_hours = 24\n",
    "fraud_days = fraud.step % num_days\n",
    "fraud_hours = fraud.step % num_hours\n",
    "valid_days = valid.step % num_days\n",
    "valid_hours = valid.step % num_hours\n",
    "\n",
    "plt.subplot(1, 2, 1)\n",
    "fraud_days.hist(bins=num_days,color=\"red\")\n",
    "plt.title('Fraud transactions by Day')\n",
    "plt.xlabel('Day of the Week')\n",
    "plt.ylabel(\"# of transactions\")\n",
    "\n",
    "plt.subplot(1,2,2)\n",
    "valid_days.hist(bins=num_days,color=\"green\")\n",
    "plt.title('Valid transactions by Day')\n",
    "plt.xlabel('Day of the Week')\n",
    "plt.ylabel(\"# of transactions\")\n",
    "\n",
    "plt.tight_layout()\n",
    "plt.show()"
   ]
  },
  {
   "cell_type": "markdown",
   "metadata": {
    "id": "0Fm4EinH9ucF"
   },
   "source": [
    "Note: With respect to days, day 0 does not necessarily mean the first day of the week, Sunday.\n",
    "\n",
    "E.g If day 0 is Wednesday, then day 1 is Thursday, day 2 is Friday and so on...\n",
    "\n",
    "From the graphs above, there is little evidence to suggest that fraudulent transactions occur at particular days of the week.\n",
    "\n",
    "Much like valid transactions, fraudulent transactions seem to occur uniformally for each day of the week.\n",
    "\n",
    "Thus I won't make a feature showing what day of the week that the transaction occured."
   ]
  },
  {
   "cell_type": "code",
   "execution_count": 35,
   "metadata": {
    "colab": {
     "base_uri": "https://localhost:8080/",
     "height": 297
    },
    "execution": {
     "iopub.execute_input": "2023-09-12T05:24:51.274491Z",
     "iopub.status.busy": "2023-09-12T05:24:51.274210Z",
     "iopub.status.idle": "2023-09-12T05:24:51.705806Z",
     "shell.execute_reply": "2023-09-12T05:24:51.704213Z",
     "shell.execute_reply.started": "2023-09-12T05:24:51.274467Z"
    },
    "id": "XSJ--WZB9vK-",
    "outputId": "66353037-8978-4f2c-975c-9df6956da213"
   },
   "outputs": [
    {
     "data": {
      "image/png": "[encoded data removed]",
      "text/plain": [
       "<Figure size 640x480 with 2 Axes>"
      ]
     },
     "metadata": {},
     "output_type": "display_data"
    }
   ],
   "source": [
    "plt.subplot(1, 2, 1)\n",
    "fraud_hours.hist(bins=num_hours, color=\"red\")\n",
    "plt.title('Fraud transactions by Hour')\n",
    "plt.xlabel('Hour of the Day')\n",
    "plt.ylabel(\"# of transactions\")\n",
    "\n",
    "\n",
    "plt.subplot(1, 2, 2)\n",
    "valid_hours.hist(bins=num_hours, color=\"green\")\n",
    "plt.title('Valid transactions by Hour')\n",
    "plt.xlabel('Hour of the Day')\n",
    "plt.ylabel(\"# of transactions\")\n",
    "\n",
    "plt.tight_layout()\n",
    "plt.show()"
   ]
  },
  {
   "cell_type": "markdown",
   "metadata": {
    "id": "E4B0rHi49xy1"
   },
   "source": [
    "Conclusion:\n",
    "\n",
    "Note: With respect to days, hour 0 does not necessarily mean 1am in the morning.\n",
    "\n",
    "E.g If hour 0 is 9am, then hour 1 is 10 am, hour 2 is 11am and so on...\n",
    "\n",
    "From the graphs above, there is strong evidence to suggest that from hour 0 to hour 9 (inclusive) valid transactions very seldom occur. On the other hand, fraudulent transactions still occur at similar rates to any hour of the day outside of hours 0 to 9 (inclusive).\n",
    "\n",
    "In response to this, I will create another feature HourOfDay, which is the step column with each number taken to modulo 24."
   ]
  },
  {
   "cell_type": "code",
   "execution_count": 36,
   "metadata": {
    "colab": {
     "base_uri": "https://localhost:8080/"
    },
    "execution": {
     "iopub.execute_input": "2023-09-12T05:24:51.710284Z",
     "iopub.status.busy": "2023-09-12T05:24:51.709332Z",
     "iopub.status.idle": "2023-09-12T05:24:51.803108Z",
     "shell.execute_reply": "2023-09-12T05:24:51.802119Z",
     "shell.execute_reply.started": "2023-09-12T05:24:51.710256Z"
    },
    "id": "GXCd8oZN9yQ9",
    "outputId": "7e76ffb3-02c1-4ecc-85a1-0f1f7e839af2"
   },
   "outputs": [
    {
     "name": "stdout",
     "output_type": "stream",
     "text": [
      "Head of dataset1: \n",
      "     step      type     amount  oldbalanceOrg  newbalanceOrig  oldbalanceDest  \\\n",
      "2      1  TRANSFER     181.00          181.0             0.0             0.0   \n",
      "3      1  CASH_OUT     181.00          181.0             0.0         21182.0   \n",
      "15     1  CASH_OUT  229133.94        15325.0             0.0          5083.0   \n",
      "19     1  TRANSFER  215310.30          705.0             0.0         22425.0   \n",
      "24     1  TRANSFER  311685.89        10835.0             0.0          6267.0   \n",
      "\n",
      "    newbalanceDest  isFraud  errorBalanceOrg  errorBalanceDest  HourOfDay  \n",
      "2             0.00        1             0.00             181.0          1  \n",
      "3             0.00        1             0.00           21363.0          1  \n",
      "15        51513.44        0        213808.94          182703.5          1  \n",
      "19            0.00        0        214605.30          237735.3          1  \n",
      "24      2719172.89        0        300850.89        -2401220.0          1  \n"
     ]
    }
   ],
   "source": [
    "dataset1 = data_new.copy()\n",
    "\n",
    "\n",
    "# adding feature HourOfDay to Dataset1 \n",
    "dataset1[\"HourOfDay\"] = np.nan \n",
    "dataset1.HourOfDay = data_new.step % 24\n",
    "\n",
    "\n",
    "print(\"Head of dataset1: \\n\", pd.DataFrame.head(dataset1))"
   ]
  },
  {
   "cell_type": "code",
   "execution_count": 37,
   "metadata": {
    "colab": {
     "base_uri": "https://localhost:8080/"
    },
    "execution": {
     "iopub.execute_input": "2023-09-12T05:24:51.805465Z",
     "iopub.status.busy": "2023-09-12T05:24:51.804371Z",
     "iopub.status.idle": "2023-09-12T05:24:51.909661Z",
     "shell.execute_reply": "2023-09-12T05:24:51.907805Z",
     "shell.execute_reply.started": "2023-09-12T05:24:51.805431Z"
    },
    "id": "Ea8rb_6s90pN",
    "outputId": "208e8aa8-d1a1-44f8-b9af-e0561f38966b"
   },
   "outputs": [
    {
     "name": "stdout",
     "output_type": "stream",
     "text": [
      "Summary statistics on the amounts moved in fraudulent transactions: \n",
      " count    8.213000e+03\n",
      "mean     1.467967e+06\n",
      "std      2.404253e+06\n",
      "min      0.000000e+00\n",
      "25%      1.270913e+05\n",
      "50%      4.414234e+05\n",
      "75%      1.517771e+06\n",
      "max      1.000000e+07\n",
      "Name: amount, dtype: float64 \n",
      "\n",
      "Summary statistics on the amounts moved in valid transactions: \n",
      " count    2.762196e+06\n",
      "mean     3.141155e+05\n",
      "std      8.771441e+05\n",
      "min      1.000000e-02\n",
      "25%      8.290823e+04\n",
      "50%      1.710345e+05\n",
      "75%      3.059942e+05\n",
      "max      9.244552e+07\n",
      "Name: amount, dtype: float64 \n",
      "\n"
     ]
    }
   ],
   "source": [
    "# Seeing summary statistics of the data\n",
    "\n",
    "print(\"Summary statistics on the amounts moved in fraudulent transactions: \\n\",pd.DataFrame.describe(fraud.amount),\"\\n\")\n",
    "print(\"Summary statistics on the amounts moved in valid transactions: \\n\", pd.DataFrame.describe(valid.amount),\"\\n\")"
   ]
  },
  {
   "cell_type": "markdown",
   "metadata": {
    "id": "_eORizGE93P2"
   },
   "source": [
    "It seems that during fraudulent transactions, the amount moved is capped at 10 million currency units.\n",
    "\n",
    "Whereas for valid transactions, the amount moved is capped at about 92.4 million currency units.\n",
    "\n",
    "when plotting time-steps against amount moved we get this plot..."
   ]
  },
  {
   "cell_type": "code",
   "execution_count": 38,
   "metadata": {
    "colab": {
     "base_uri": "https://localhost:8080/",
     "height": 313
    },
    "execution": {
     "iopub.execute_input": "2023-09-12T05:24:51.911847Z",
     "iopub.status.busy": "2023-09-12T05:24:51.911317Z",
     "iopub.status.idle": "2023-09-12T05:24:56.129906Z",
     "shell.execute_reply": "2023-09-12T05:24:56.128819Z",
     "shell.execute_reply.started": "2023-09-12T05:24:51.911786Z"
    },
    "id": "GtjEFqiA92X1",
    "outputId": "3a01ecd6-9d98-48f6-837b-986ad639efc1"
   },
   "outputs": [
    {
     "data": {
      "image/png": "[encoded data removed]",
      "text/plain": [
       "<Figure size 640x480 with 1 Axes>"
      ]
     },
     "metadata": {},
     "output_type": "display_data"
    },
    {
     "name": "stdout",
     "output_type": "stream",
     "text": [
      "Proportion of transactions where the amount moved is greater than 10 million:  0.0008818192548464865\n"
     ]
    }
   ],
   "source": [
    "# plotting overlayed step vs amount scatter plots\n",
    "\n",
    "alpha = 0.3\n",
    "fig,ax = plt.subplots()\n",
    "valid.plot.scatter(x=\"step\",y=\"amount\",color=\"green\",alpha=alpha,ax=ax,label=\"Valid Transactions\")\n",
    "fraud.plot.scatter(x=\"step\",y=\"amount\",color=\"red\",alpha=alpha,ax=ax, label=\"Fraudulent Transactions\")\n",
    "\n",
    "plt.title(\"1 hour timestep vs amount\")\n",
    "plt.xlabel(\"1 hour time-step\")\n",
    "plt.ylabel(\"amount moved in transaction\")\n",
    "plt.legend(loc=\"upper right\")\n",
    "\n",
    "# plotting a horizontal line to show where valid transactions behave very differently from fraud transactions\n",
    "plt.axhline(y=10000000)\n",
    "plt.show()\n",
    "\n",
    "\n",
    "print(\"Proportion of transactions where the amount moved is greater than 10 million: \", len(data_new[data_new.amount > 10000000])/len(data_new))"
   ]
  },
  {
   "cell_type": "markdown",
   "metadata": {
    "id": "StDi4beT96Sl"
   },
   "source": [
    "Conclusion:\n",
    "\n",
    "Only valid transaction involved amounts larger than 10,000,000, however these transactions make up less than 0.01% of the relevant data.\n",
    "\n",
    "When the amounts moved is less than 10,000,000 there doesn't seem to be a large difference fraudulent and valid transactions.\n",
    "\n",
    "I leave the variable amount as is without creating a feature out of it."
   ]
  },
  {
   "cell_type": "code",
   "execution_count": 39,
   "metadata": {
    "execution": {
     "iopub.execute_input": "2023-09-12T05:24:56.131014Z",
     "iopub.status.busy": "2023-09-12T05:24:56.130746Z",
     "iopub.status.idle": "2023-09-12T05:24:56.186723Z",
     "shell.execute_reply": "2023-09-12T05:24:56.185575Z",
     "shell.execute_reply.started": "2023-09-12T05:24:56.130993Z"
    },
    "id": "D_VIVOSI96zO"
   },
   "outputs": [],
   "source": [
    "# finalizing dataset\n",
    "dataset = dataset1.copy() # unchanged dataset1"
   ]
  },
  {
   "cell_type": "markdown",
   "metadata": {
    "id": "8HWXksV99_pG"
   },
   "source": [
    "# Handling Categorical Variables\n",
    "\n",
    "Note that many algorithms require that all elements used in the computation are numbers.\n",
    "\n",
    "For that reason, the categorical variables encoded as string must be encoded as numbers. Since there is no \"order\"/\"hierarchy\" in the type variable, the method I will use to numerically encode categorical variables is called 1 hot encoding.\n",
    "\n",
    "One-Hot encoding involves creating indicator variables for each category in a categorical variable.\n",
    "\n",
    "If an observation is part of a particular category (e.g. the transaction type is CASH_OUT), the indicator variable associated with the category would be 1. If it isn't part of a particular category, then the indicator variable associated with that category would be 0."
   ]
  },
  {
   "cell_type": "code",
   "execution_count": 40,
   "metadata": {
    "execution": {
     "iopub.execute_input": "2023-09-12T05:24:56.188634Z",
     "iopub.status.busy": "2023-09-12T05:24:56.188332Z",
     "iopub.status.idle": "2023-09-12T05:24:56.483974Z",
     "shell.execute_reply": "2023-09-12T05:24:56.483073Z",
     "shell.execute_reply.started": "2023-09-12T05:24:56.188609Z"
    },
    "id": "k6mvdjDT98oN"
   },
   "outputs": [],
   "source": [
    "# getting one-hot encoding of the 'type' variable\n",
    "\n",
    "dataset = pd.get_dummies(dataset,prefix=['type'])"
   ]
  },
  {
   "cell_type": "code",
   "execution_count": 41,
   "metadata": {
    "colab": {
     "base_uri": "https://localhost:8080/",
     "height": 206
    },
    "execution": {
     "iopub.execute_input": "2023-09-12T05:24:56.485510Z",
     "iopub.status.busy": "2023-09-12T05:24:56.485194Z",
     "iopub.status.idle": "2023-09-12T05:24:56.502835Z",
     "shell.execute_reply": "2023-09-12T05:24:56.501735Z",
     "shell.execute_reply.started": "2023-09-12T05:24:56.485482Z"
    },
    "id": "9cZUceqQ-Bj2",
    "outputId": "c1c56570-74db-4e9a-e3cf-3593aaa04e8b"
   },
   "outputs": [
    {
     "data": {
      "text/html": [
       "<div>\n",
       "<style scoped>\n",
       "    .dataframe tbody tr th:only-of-type {\n",
       "        vertical-align: middle;\n",
       "    }\n",
       "\n",
       "    .dataframe tbody tr th {\n",
       "        vertical-align: top;\n",
       "    }\n",
       "\n",
       "    .dataframe thead th {\n",
       "        text-align: right;\n",
       "    }\n",
       "</style>\n",
       "<table border=\"1\" class=\"dataframe\">\n",
       "  <thead>\n",
       "    <tr style=\"text-align: right;\">\n",
       "      <th></th>\n",
       "      <th>step</th>\n",
       "      <th>amount</th>\n",
       "      <th>oldbalanceOrg</th>\n",
       "      <th>newbalanceOrig</th>\n",
       "      <th>oldbalanceDest</th>\n",
       "      <th>newbalanceDest</th>\n",
       "      <th>isFraud</th>\n",
       "      <th>errorBalanceOrg</th>\n",
       "      <th>errorBalanceDest</th>\n",
       "      <th>HourOfDay</th>\n",
       "      <th>type_CASH_OUT</th>\n",
       "      <th>type_TRANSFER</th>\n",
       "    </tr>\n",
       "  </thead>\n",
       "  <tbody>\n",
       "    <tr>\n",
       "      <th>2</th>\n",
       "      <td>1</td>\n",
       "      <td>181.00</td>\n",
       "      <td>181.0</td>\n",
       "      <td>0.0</td>\n",
       "      <td>0.0</td>\n",
       "      <td>0.00</td>\n",
       "      <td>1</td>\n",
       "      <td>0.00</td>\n",
       "      <td>181.0</td>\n",
       "      <td>1</td>\n",
       "      <td>False</td>\n",
       "      <td>True</td>\n",
       "    </tr>\n",
       "    <tr>\n",
       "      <th>3</th>\n",
       "      <td>1</td>\n",
       "      <td>181.00</td>\n",
       "      <td>181.0</td>\n",
       "      <td>0.0</td>\n",
       "      <td>21182.0</td>\n",
       "      <td>0.00</td>\n",
       "      <td>1</td>\n",
       "      <td>0.00</td>\n",
       "      <td>21363.0</td>\n",
       "      <td>1</td>\n",
       "      <td>True</td>\n",
       "      <td>False</td>\n",
       "    </tr>\n",
       "    <tr>\n",
       "      <th>15</th>\n",
       "      <td>1</td>\n",
       "      <td>229133.94</td>\n",
       "      <td>15325.0</td>\n",
       "      <td>0.0</td>\n",
       "      <td>5083.0</td>\n",
       "      <td>51513.44</td>\n",
       "      <td>0</td>\n",
       "      <td>213808.94</td>\n",
       "      <td>182703.5</td>\n",
       "      <td>1</td>\n",
       "      <td>True</td>\n",
       "      <td>False</td>\n",
       "    </tr>\n",
       "    <tr>\n",
       "      <th>19</th>\n",
       "      <td>1</td>\n",
       "      <td>215310.30</td>\n",
       "      <td>705.0</td>\n",
       "      <td>0.0</td>\n",
       "      <td>22425.0</td>\n",
       "      <td>0.00</td>\n",
       "      <td>0</td>\n",
       "      <td>214605.30</td>\n",
       "      <td>237735.3</td>\n",
       "      <td>1</td>\n",
       "      <td>False</td>\n",
       "      <td>True</td>\n",
       "    </tr>\n",
       "    <tr>\n",
       "      <th>24</th>\n",
       "      <td>1</td>\n",
       "      <td>311685.89</td>\n",
       "      <td>10835.0</td>\n",
       "      <td>0.0</td>\n",
       "      <td>6267.0</td>\n",
       "      <td>2719172.89</td>\n",
       "      <td>0</td>\n",
       "      <td>300850.89</td>\n",
       "      <td>-2401220.0</td>\n",
       "      <td>1</td>\n",
       "      <td>False</td>\n",
       "      <td>True</td>\n",
       "    </tr>\n",
       "  </tbody>\n",
       "</table>\n",
       "</div>"
      ],
      "text/plain": [
       "    step     amount  oldbalanceOrg  newbalanceOrig  oldbalanceDest  \\\n",
       "2      1     181.00          181.0             0.0             0.0   \n",
       "3      1     181.00          181.0             0.0         21182.0   \n",
       "15     1  229133.94        15325.0             0.0          5083.0   \n",
       "19     1  215310.30          705.0             0.0         22425.0   \n",
       "24     1  311685.89        10835.0             0.0          6267.0   \n",
       "\n",
       "    newbalanceDest  isFraud  errorBalanceOrg  errorBalanceDest  HourOfDay  \\\n",
       "2             0.00        1             0.00             181.0          1   \n",
       "3             0.00        1             0.00           21363.0          1   \n",
       "15        51513.44        0        213808.94          182703.5          1   \n",
       "19            0.00        0        214605.30          237735.3          1   \n",
       "24      2719172.89        0        300850.89        -2401220.0          1   \n",
       "\n",
       "    type_CASH_OUT  type_TRANSFER  \n",
       "2           False           True  \n",
       "3            True          False  \n",
       "15           True          False  \n",
       "19          False           True  \n",
       "24          False           True  "
      ]
     },
     "execution_count": 41,
     "metadata": {},
     "output_type": "execute_result"
    }
   ],
   "source": [
    "pd.DataFrame.head(dataset)"
   ]
  },
  {
   "cell_type": "markdown",
   "metadata": {
    "id": "ml2VkGL2-D5F"
   },
   "source": [
    "# Splitting and Standardizing Data.\n",
    "Similarly, many, if not all, machine learning algorithms perform better when the data is standardized/normalized (when all values are between 0 and 1 inclusive).\n",
    "\n",
    "We will do this to standardize the data without standardizing the target variable isFraud.\n",
    "\n",
    "Additionally, we will also split the data up into training sets and testing sets. A common split is to separate 80% of the data as the training set and the rest as the testing set. However we will rely on the \"default\" split which is 75% of the data is used as the training set, 25% is used as the testing set."
   ]
  },
  {
   "cell_type": "code",
   "execution_count": 43,
   "metadata": {
    "execution": {
     "iopub.execute_input": "2023-09-12T05:25:17.760307Z",
     "iopub.status.busy": "2023-09-12T05:25:17.759975Z",
     "iopub.status.idle": "2023-09-12T05:25:19.678054Z",
     "shell.execute_reply": "2023-09-12T05:25:19.676488Z",
     "shell.execute_reply.started": "2023-09-12T05:25:17.760285Z"
    },
    "id": "VlH2RThL-DQF"
   },
   "outputs": [],
   "source": [
    "# Setting random_state and seed so that the training/testing splits and model results are reproducible\n",
    "RandomState = 42\n",
    "seed(21)\n",
    "\n",
    "\n",
    "# creating training and testing sets\n",
    "X = dataset.drop(\"isFraud\",axis = 1)\n",
    "y = dataset.isFraud\n",
    "X_train, X_test, y_train, y_test = train_test_split(X, y)\n",
    "    \n",
    "# Normalizing data so that all variables follow the same scale (0 to 1)\n",
    "scaler = StandardScaler()\n",
    "\n",
    "# Fit only to the training data\n",
    "scaler.fit(X_train)\n",
    "\n",
    "# Now apply the transformations to the data:\n",
    "X_train = scaler.transform(X_train)\n",
    "X_test = scaler.transform(X_test)"
   ]
  },
  {
   "cell_type": "markdown",
   "metadata": {
    "id": "MlKRmjTW-Jue"
   },
   "source": [
    "# Artificial Neural Networks\n",
    "Since correctly predicting fraudulent and valid transactions is the main goal and my dataset is fairly large (> 2 million rows), I think that Neural Networks would be a good choice.\n",
    "\n",
    "In particular, I will be using a Multilayered Perceptron.\n",
    "\n",
    "Multi Layer perceptron (MLP) is a feedforward neural network with at least 1 layer between the input and output layer. Data is trained from the input layer up until the output layer"
   ]
  },
  {
   "cell_type": "code",
   "execution_count": 44,
   "metadata": {
    "colab": {
     "base_uri": "https://localhost:8080/"
    },
    "execution": {
     "iopub.execute_input": "2023-09-12T05:25:26.534135Z",
     "iopub.status.busy": "2023-09-12T05:25:26.533586Z",
     "iopub.status.idle": "2023-09-12T05:27:16.459546Z",
     "shell.execute_reply": "2023-09-12T05:27:16.458435Z",
     "shell.execute_reply.started": "2023-09-12T05:25:26.534107Z"
    },
    "id": "RCkUGufe-GY-",
    "outputId": "0fde992f-a2f6-4b20-93f1-424e6866bf50"
   },
   "outputs": [
    {
     "name": "stdout",
     "output_type": "stream",
     "text": [
      "Confusion Matrix : \n",
      " [[690296    208]\n",
      " [   295   1804]]\n",
      "Classification Report : \n",
      "               precision    recall  f1-score   support\n",
      "\n",
      "           0       1.00      1.00      1.00    690504\n",
      "           1       0.90      0.86      0.88      2099\n",
      "\n",
      "    accuracy                           1.00    692603\n",
      "   macro avg       0.95      0.93      0.94    692603\n",
      "weighted avg       1.00      1.00      1.00    692603\n",
      "\n",
      "Area Under Curve : \n",
      " 0.9295778274917715\n"
     ]
    }
   ],
   "source": [
    "ncols = len(X.columns)\n",
    "hidden_layers = (ncols,ncols,ncols)\n",
    "max_iter = 1000\n",
    "MLP = MLPClassifier(hidden_layer_sizes=hidden_layers,max_iter=1000,random_state=RandomState)\n",
    "\n",
    "# training model\n",
    "MLP.fit(X_train,y_train)\n",
    "    \n",
    "# evaluating model on how it performs on balanced datasets\n",
    "predictionsMLP = MLP.predict(X_test)\n",
    "CM_MLP = confusion_matrix(y_test,predictionsMLP)\n",
    "CR_MLP = classification_report(y_test,predictionsMLP)\n",
    "fprMLP, recallMLP, thresholdsMLP = roc_curve(y_test, predictionsMLP)\n",
    "AUC_MLP = auc(fprMLP, recallMLP)\n",
    "    \n",
    "resultsMLP = {\"Confusion Matrix\":CM_MLP,\"Classification Report\":CR_MLP,\"Area Under Curve\":AUC_MLP}\n",
    "# showing results from Multilayered perceptrons developed from each dataset\n",
    "for measure in resultsMLP:\n",
    "    print(measure,\": \\n\",resultsMLP[measure])"
   ]
  },
  {
   "cell_type": "markdown",
   "metadata": {
    "id": "ikwa8q6r-NrN"
   },
   "source": [
    "In the context of fraud detection the performance of the Neural Network isn't terrible, but it isn't great either. The loss is performance is very likely due to the phenomenon that Neural Networks perform worse when the data is imbalanced. When data is imbalanced, Neural Networks and many other models trained on the data tend to be very biased towards the majority class. In our case, the majority class are valid transactions.\n",
    "\n",
    "This model will be the benchmark that I will compare other individual models against.\n",
    "\n",
    "The next few models will be generated from methods that are well-known for handling imbalanced data effectively."
   ]
  },
  {
   "cell_type": "markdown",
   "metadata": {
    "id": "XvEqHxDe-Poe"
   },
   "source": [
    "# Random Forest\n",
    "\n",
    "A random forest is an algorithm that generates several decisions trees and pools the results of each tree to make a more robust prediction (Eulogio, 2017).\n",
    "\n",
    "Another great thing about Random Forest is that I can assign weights to each class to reduced the bias of the model towards the majority class, in this case valid transaction."
   ]
  },
  {
   "cell_type": "code",
   "execution_count": 45,
   "metadata": {
    "colab": {
     "base_uri": "https://localhost:8080/"
    },
    "execution": {
     "iopub.execute_input": "2023-09-12T05:27:16.461150Z",
     "iopub.status.busy": "2023-09-12T05:27:16.460928Z",
     "iopub.status.idle": "2023-09-12T05:27:48.574248Z",
     "shell.execute_reply": "2023-09-12T05:27:48.573272Z",
     "shell.execute_reply.started": "2023-09-12T05:27:16.461128Z"
    },
    "id": "LaQhs-CZ-OLd",
    "outputId": "aeae2a9c-b0bb-4cfc-e269-2bf7ef7af5ad"
   },
   "outputs": [
    {
     "name": "stdout",
     "output_type": "stream",
     "text": [
      "Confusion Matrix : \n",
      " [[690504      0]\n",
      " [     4   2095]]\n",
      "Classification Report : \n",
      "               precision    recall  f1-score   support\n",
      "\n",
      "           0       1.00      1.00      1.00    690504\n",
      "           1       1.00      1.00      1.00      2099\n",
      "\n",
      "    accuracy                           1.00    692603\n",
      "   macro avg       1.00      1.00      1.00    692603\n",
      "weighted avg       1.00      1.00      1.00    692603\n",
      "\n",
      "Area Under Curve : \n",
      " 0.9990471653168176\n"
     ]
    }
   ],
   "source": [
    "# Train model\n",
    "parametersRF = {'n_estimators':15,'oob_score':True,'class_weight': \"balanced\",'n_jobs':-1,\\\n",
    "                 'random_state':RandomState}\n",
    "RF = RandomForestClassifier(**parametersRF)\n",
    "fitted_vals = RF.fit(X_train, y_train)\n",
    " \n",
    "# Predict on testing set\n",
    "predictionsRF = RF.predict(X_test)\n",
    " \n",
    "     \n",
    "# Evaluating model\n",
    "CM_RF = confusion_matrix(y_test,predictionsRF)\n",
    "CR_RF = classification_report(y_test,predictionsRF)\n",
    "fprRF, recallRF, thresholdsRF = roc_curve(y_test, predictionsRF)\n",
    "AUC_RF = auc(fprRF, recallRF)\n",
    "\n",
    "resultsRF = {\"Confusion Matrix\":CM_RF,\"Classification Report\":CR_RF,\"Area Under Curve\":AUC_RF}\n",
    "# showing results from Random Forest\n",
    "\n",
    "for measure in resultsRF:\n",
    "    print(measure,\": \\n\",resultsRF[measure])"
   ]
  },
  {
   "cell_type": "markdown",
   "metadata": {
    "id": "ad-NcMqK-TU9"
   },
   "source": [
    "As expected, the Random Forest performs much better than the Neural Networks. Instead of crowning this model as the best model, let's try another model known for performing well in imbalanced datasets."
   ]
  },
  {
   "cell_type": "markdown",
   "metadata": {
    "id": "Ci6CT4xt-WiW"
   },
   "source": [
    "# eXtreme Gradient Boosting Trees (or XGB trees for short)\n",
    "\n",
    "This algorithm is well known for being used in imbalanced datasets. Similar to Random Forests, the algorithm generates several decision trees and pooling the results.\n",
    "\n",
    "However,instead of generating multiple full blown decision trees in parallel and pooling the results, it generates multiple trees formed by weak learners sequentially and then it pools the results (Ravanshad, 2018).\n",
    "\n",
    "As with Random Forests, I could set weights such that the model is less biased towards the majority class."
   ]
  },
  {
   "cell_type": "code",
   "execution_count": 46,
   "metadata": {
    "colab": {
     "base_uri": "https://localhost:8080/"
    },
    "execution": {
     "iopub.execute_input": "2023-09-12T05:27:48.575554Z",
     "iopub.status.busy": "2023-09-12T05:27:48.575299Z",
     "iopub.status.idle": "2023-09-12T05:29:03.961120Z",
     "shell.execute_reply": "2023-09-12T05:29:03.959843Z",
     "shell.execute_reply.started": "2023-09-12T05:27:48.575532Z"
    },
    "id": "OPHxiKO3-T09",
    "outputId": "ac3fcbc0-f036-4aac-c997-ce4b9ddb61ef"
   },
   "outputs": [
    {
     "name": "stdout",
     "output_type": "stream",
     "text": [
      "Confusion Matrix : \n",
      " [[690259    245]\n",
      " [     3   2096]] \n",
      "\n",
      "Classification Report : \n",
      "               precision    recall  f1-score   support\n",
      "\n",
      "           0       1.00      1.00      1.00    690504\n",
      "           1       0.90      1.00      0.94      2099\n",
      "\n",
      "    accuracy                           1.00    692603\n",
      "   macro avg       0.95      1.00      0.97    692603\n",
      "weighted avg       1.00      1.00      1.00    692603\n",
      " \n",
      "\n",
      "Area Under Curve : \n",
      " 0.9991079673397153 \n",
      "\n"
     ]
    }
   ],
   "source": [
    "# Train model\n",
    "weights = (y == 0).sum() / (1.0 * (y == 1).sum()) # for unbalanced datasets, these weights are recommended\n",
    "parametersXGB = {'max_depth':3,'scale_pos_weight': weights,'n_jobs':-1, 'random_state':RandomState,'learning_rate':0.1}\n",
    "XGB = XGBClassifier(**parametersXGB)\n",
    "    \n",
    "fitted_vals = XGB.fit(X_train, y_train)\n",
    " \n",
    "# Predict on testing set\n",
    "predictionsXGB = XGB.predict(X_test)\n",
    " \n",
    "     \n",
    "# Evaluating model\n",
    "CM_XGB = confusion_matrix(y_test,predictionsXGB)\n",
    "CR_XGB = classification_report(y_test,predictionsXGB)\n",
    "fprXGB, recallXGB, thresholds_XGB = roc_curve(y_test, predictionsXGB)\n",
    "AUC_XGB = auc(fprXGB, recallXGB)\n",
    "resultsXGB = {\"Confusion Matrix\":CM_XGB,\"Classification Report\":CR_XGB,\"Area Under Curve\":AUC_XGB}\n",
    "# showing results from Extreme Gradient Boosting\n",
    "for measure in resultsXGB:\n",
    "    print(measure,\": \\n\",resultsXGB[measure],\"\\n\")"
   ]
  },
  {
   "cell_type": "markdown",
   "metadata": {
    "id": "nApl8YNn-bK9"
   },
   "source": [
    "# Comparing Performances\n",
    "\n",
    "Clearly, the random forest and the extreme gradient boosted trees performed better than the neural networks, but which one is better?\n",
    "\n",
    "Instead of comparing all of the metrics from a purely statistical or mathematical point of view, let's look at them at give some practical interpretation.\n",
    "\n",
    "First off, let's compare their confusion matrices.\n",
    "\n",
    "Additionally, instead of comparing the number of correct predictions, let us compare the number of wrong predictions."
   ]
  },
  {
   "cell_type": "code",
   "execution_count": 47,
   "metadata": {
    "colab": {
     "base_uri": "https://localhost:8080/"
    },
    "execution": {
     "iopub.execute_input": "2023-09-12T05:29:03.963341Z",
     "iopub.status.busy": "2023-09-12T05:29:03.963056Z",
     "iopub.status.idle": "2023-09-12T05:29:03.968349Z",
     "shell.execute_reply": "2023-09-12T05:29:03.967445Z",
     "shell.execute_reply.started": "2023-09-12T05:29:03.963318Z"
    },
    "id": "HV5G6LTj-bAd",
    "outputId": "52048f9c-3880-41ba-9abb-0b911381888e"
   },
   "outputs": [
    {
     "name": "stdout",
     "output_type": "stream",
     "text": [
      "Number of valid transactions labelled as fraudulent by Random Forest: \n",
      " 0\n",
      "Number of valid transactions labelled as fraudulent by XGB trees: \n",
      " 245\n"
     ]
    }
   ],
   "source": [
    "print(\"Number of valid transactions labelled as fraudulent by Random Forest: \\n\", CM_RF[0,1])\n",
    "print(\"Number of valid transactions labelled as fraudulent by XGB trees: \\n\", CM_XGB[0,1])"
   ]
  },
  {
   "cell_type": "code",
   "execution_count": 48,
   "metadata": {
    "colab": {
     "base_uri": "https://localhost:8080/"
    },
    "execution": {
     "iopub.execute_input": "2023-09-12T05:29:03.970362Z",
     "iopub.status.busy": "2023-09-12T05:29:03.969925Z",
     "iopub.status.idle": "2023-09-12T05:29:03.986094Z",
     "shell.execute_reply": "2023-09-12T05:29:03.984470Z",
     "shell.execute_reply.started": "2023-09-12T05:29:03.970333Z"
    },
    "id": "Ix80lD4oAkbN",
    "outputId": "77f06736-a211-498c-ca60-7d7edc394bfa"
   },
   "outputs": [
    {
     "name": "stdout",
     "output_type": "stream",
     "text": [
      "Number of fraud transactions labelled as valid by Random Forest: \n",
      " 4\n",
      "Number of fraud transactions labelled as valid by XGB trees: \n",
      " 3\n"
     ]
    }
   ],
   "source": [
    "# On the basis on limiting the amount of valid transaction labelled as fraudulent, the Random Forest performed better\n",
    "\n",
    "print(\"Number of fraud transactions labelled as valid by Random Forest: \\n\", CM_RF[1,0])\n",
    "print(\"Number of fraud transactions labelled as valid by XGB trees: \\n\", CM_XGB[1,0])"
   ]
  },
  {
   "cell_type": "markdown",
   "metadata": {
    "id": "v0DGwW1fApIu"
   },
   "source": [
    "On the basis on limiting the amount of fraudulent transactions labelled as fraudulent, the XGB trees performed better.\n",
    "\n",
    "Based purely on the results on the confusion matrix, the better model is decided by which model incurs the lowest costs.\n",
    "\n",
    "If the combined cost of mislabelling over 100 more valid transactions as fraudulent exceeds the cost of mislabelling a few more fraudulent transactions as valid then the random forest would be a better model.\n",
    "\n",
    "Otherwise, the Extreme Gradient Boosted model would be superior.\n",
    "\n",
    "Some of the other metrics tracked (precision, recall, f1-score which are found in the classification report) will convey the same information that is offered by the confusion matrix.\n",
    "\n",
    "So what if we compared the classification reports?"
   ]
  },
  {
   "cell_type": "code",
   "execution_count": 49,
   "metadata": {
    "colab": {
     "base_uri": "https://localhost:8080/"
    },
    "execution": {
     "iopub.execute_input": "2023-09-12T05:29:03.988408Z",
     "iopub.status.busy": "2023-09-12T05:29:03.987734Z",
     "iopub.status.idle": "2023-09-12T05:29:04.004201Z",
     "shell.execute_reply": "2023-09-12T05:29:04.002883Z",
     "shell.execute_reply.started": "2023-09-12T05:29:03.988381Z"
    },
    "id": "nI8yt70KApl2",
    "outputId": "2c8fbb1d-4f08-415a-bf64-6709fe7787a6"
   },
   "outputs": [
    {
     "name": "stdout",
     "output_type": "stream",
     "text": [
      "Note: scores in the same vertical level as 0 are scores for valid transactions. \n",
      " Scores in the same vertical level as 1 are scores for fraudulent transactions. \n",
      "\n",
      "Classification Report of Random Forest: \n",
      "               precision    recall  f1-score   support\n",
      "\n",
      "           0       1.00      1.00      1.00    690504\n",
      "           1       1.00      1.00      1.00      2099\n",
      "\n",
      "    accuracy                           1.00    692603\n",
      "   macro avg       1.00      1.00      1.00    692603\n",
      "weighted avg       1.00      1.00      1.00    692603\n",
      "\n",
      "Classification Report of XGB trees: \n",
      "               precision    recall  f1-score   support\n",
      "\n",
      "           0       1.00      1.00      1.00    690504\n",
      "           1       0.90      1.00      0.94      2099\n",
      "\n",
      "    accuracy                           1.00    692603\n",
      "   macro avg       0.95      1.00      0.97    692603\n",
      "weighted avg       1.00      1.00      1.00    692603\n",
      "\n"
     ]
    }
   ],
   "source": [
    "print(\"Note: scores in the same vertical level as 0 are scores for valid transactions. \\n Scores in the same vertical level as 1 are scores for fraudulent transactions. \\n\")\n",
    "print(\"Classification Report of Random Forest: \\n\", CR_RF)\n",
    "print(\"Classification Report of XGB trees: \\n\", CR_XGB)"
   ]
  },
  {
   "cell_type": "markdown",
   "metadata": {
    "id": "BnOuiotrAsSO"
   },
   "source": [
    "While the recall scores for both models are identical, the Random Forest performed slightly better in terms of their precision score for fraudulent transactions.\n",
    "\n",
    "This means that there are considerably less false positives (identifying valid transactions as fraudulent) in the Random Forest than in the XGB model. This makes sense given what we've seen in their confusion matrices (a few valid transactions labelled as fraudulent by Random Forest, compared to over 100 by the XGB model).\n",
    "\n",
    "Based on the classification report, the Random Forest is superior.\n",
    "\n",
    "What about AUC's (area under the curve)?\n",
    "\n",
    "The only reason why I computed AUC's is because it is a popularly used metric to measure performance in competitions. The curve in Area Under Curve is a plot of the true positive rates (in our case, the proportion of valid transactions labelled as valid) against the false positive rate (in our case, the proportion of fraudulent transactions labelled as valid). The curve is also known as the Receiver Operating Characteristic Curve or ROC.\n",
    "\n",
    "The ideal AUC is then 1 (all transactions predicted as valid are actually valid)."
   ]
  },
  {
   "cell_type": "code",
   "execution_count": 50,
   "metadata": {
    "colab": {
     "base_uri": "https://localhost:8080/",
     "height": 460
    },
    "execution": {
     "iopub.execute_input": "2023-09-12T05:29:04.006127Z",
     "iopub.status.busy": "2023-09-12T05:29:04.005716Z",
     "iopub.status.idle": "2023-09-12T05:29:04.390434Z",
     "shell.execute_reply": "2023-09-12T05:29:04.389421Z",
     "shell.execute_reply.started": "2023-09-12T05:29:04.006094Z"
    },
    "id": "86V6Y7AnAs2-",
    "outputId": "2ba50902-edfa-43ae-fe96-f4080d39bc52"
   },
   "outputs": [
    {
     "name": "stdout",
     "output_type": "stream",
     "text": [
      "\n",
      "Receiver Operating Characteristic Curves for Random Forests and Extreme Gradient Boosted Trees: \n",
      "\n"
     ]
    },
    {
     "data": {
      "image/png": "[encoded data removed]",
      "text/plain": [
       "<Figure size 640x480 with 2 Axes>"
      ]
     },
     "metadata": {},
     "output_type": "display_data"
    },
    {
     "name": "stdout",
     "output_type": "stream",
     "text": [
      "\n",
      "AUC of Random Forest: \n",
      " 0.9990471653168176\n",
      "\n",
      "AUC of XGB trees: \n",
      " 0.9991079673397153\n"
     ]
    }
   ],
   "source": [
    "print(\"\\nReceiver Operating Characteristic Curves for Random Forests and Extreme Gradient Boosted Trees: \\n\")\n",
    "plt.subplot(1, 2, 1)\n",
    "plt.plot(fprRF, recallRF, color='purple', label='ROC curve (area = %0.2f)' % AUC_RF)\n",
    "plt.plot([0, 1], [0, 1], color='navy', linestyle='--')\n",
    "plt.xlim([-0.01, 1.0])\n",
    "plt.ylim([-0.01, 1.0])\n",
    "plt.xlabel('False Positive Rate')\n",
    "plt.ylabel('True Positive Rate')\n",
    "plt.title('ROC (Random Forest)')\n",
    "plt.legend(loc=\"lower right\")\n",
    "\n",
    "\n",
    "plt.subplot(1, 2, 2)\n",
    "plt.plot(fprRF, recallRF, color='green', label='ROC curve (area = %0.2f)' % AUC_RF)\n",
    "plt.plot([0, 1], [0, 1], color='navy', linestyle='--')\n",
    "plt.xlim([-0.01, 1.0])\n",
    "plt.ylim([-0.01, 1.0])\n",
    "plt.xlabel('False Positive Rate')\n",
    "plt.ylabel('True Positive Rate')\n",
    "plt.title('ROC (XGB)')\n",
    "plt.legend(loc=\"lower right\")\n",
    "\n",
    "plt.tight_layout()\n",
    "plt.show()\n",
    "\n",
    "print(\"\\nAUC of Random Forest: \\n\", AUC_RF)\n",
    "print(\"\\nAUC of XGB trees: \\n\", AUC_XGB)\n",
    "\n",
    "# Receiver Operating Characteristic Curves for Random Forests and Extreme Gradient Boosted Trees: "
   ]
  },
  {
   "cell_type": "markdown",
   "metadata": {
    "id": "jkLXTHhwAzM2"
   },
   "source": [
    "While the AUC of the Extreme Gradient Boosted Trees is slightly greater than the AUC of the Random Forests. For all practical purposes, they are essentially the same.\n",
    "\n",
    "Overall, I would deem the Random Forest as the superior choice because I think the cost of resolving over a 100 valid transactions labelled as fraudulent would exceed the cost of resolving a handful more fraudulent transactions that have been passed off as valid.\n",
    "\n",
    "With that said, this may not true in actual companies. The best decision would be to consult people with experience dealing with mislabelled transactions.\n",
    "\n",
    "Black-box/Non-parametric methods (like Neural Networks, Random Forests, Extreme Gradient Boosted Trees) are known to not be interpretable (due to having a lack of an equation to interpret from).\n",
    "\n",
    "Nonetheless, let's take a look at what features ended up being the most important in classifying transactions."
   ]
  },
  {
   "cell_type": "code",
   "execution_count": 51,
   "metadata": {
    "colab": {
     "base_uri": "https://localhost:8080/",
     "height": 445
    },
    "execution": {
     "iopub.execute_input": "2023-09-12T05:29:04.391881Z",
     "iopub.status.busy": "2023-09-12T05:29:04.391574Z",
     "iopub.status.idle": "2023-09-12T05:29:04.649930Z",
     "shell.execute_reply": "2023-09-12T05:29:04.648609Z",
     "shell.execute_reply.started": "2023-09-12T05:29:04.391858Z"
    },
    "id": "aQMbZFJaAzpW",
    "outputId": "04e4ebc3-409c-4383-8834-ccaff8ee66e6"
   },
   "outputs": [
    {
     "data": {
      "image/png": "[encoded data removed]",
      "text/plain": [
       "<Figure size 1800x700 with 1 Axes>"
      ]
     },
     "metadata": {},
     "output_type": "display_data"
    }
   ],
   "source": [
    "x = np.arange(ncols)\n",
    "\n",
    "# getting importances of features\n",
    "importances = RF.feature_importances_\n",
    "\n",
    "# getting the indices of the most important feature to least important\n",
    "sort_ind = np.argsort(importances)[::-1]\n",
    "plt.figure(figsize=(18,7))\n",
    "plt.bar(x, importances[sort_ind])\n",
    "plt.xticks(x,tuple(X.columns.values[sort_ind]))\n",
    "plt.title(\"Important Features: Greatest to Least\")\n",
    "plt.show()"
   ]
  },
  {
   "cell_type": "markdown",
   "metadata": {
    "id": "_woFXoDSA1vO"
   },
   "source": [
    "It seems that errorBalanceOrg ended by the most important feature by far for classifying transactions followed by oldBalanceOrg and newBalanceOrig."
   ]
  },
  {
   "cell_type": "markdown",
   "metadata": {
    "id": "_zX-7huYA3o2"
   },
   "source": [
    "From the exploring the dataset, we uncovered patterns that allowed us to construct important features and discard useless ones.\n",
    "\n",
    "We applied a few popular machine learning algorithms and saw that methods that involved generating multiple decisions trees and pooling their results together performed better than Multi-Layered Perceptrons (a type of Neural Network). While it may seem that Neural Networks are unsuitable for unbalanced datasets, in some occasions, techniques such as SMOTE, oversampling and undersampling can resolve such issues.\n",
    "\n",
    "Finally, between the Random Forests and the Extreme Gradient Boosting, practical considerations were used to decide that the Random Forests were a better model.\n",
    "\n",
    "In particular, Random Forests were better because we thought that the cost of dealing with over a 100 wrongly labeled valid transactions is more expensive than the cost of dealing with a few additional fraudulent transactions.\n"
   ]
  }
 ],
 "metadata": {
  "accelerator": "GPU",
  "colab": {
   "collapsed_sections": [],
   "name": "INSAID_GunjanHaldar_IITDhanbad.ipynb",
   "provenance": []
  },
  "kernelspec": {
   "display_name": "Python 3 (ipykernel)",
   "language": "python",
   "name": "python3"
  },
  "language_info": {
   "codemirror_mode": {
    "name": "ipython",
    "version": 3
   },
   "file_extension": ".py",
   "mimetype": "text/x-python",
   "name": "python",
   "nbconvert_exporter": "python",
   "pygments_lexer": "ipython3",
   "version": "3.7.16"
  }
 },
 "nbformat": 4,
 "nbformat_minor": 4
}
